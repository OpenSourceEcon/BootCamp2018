{
 "cells": [
  {
   "cell_type": "markdown",
   "metadata": {},
   "source": [
    "# Using Numba for Dynamic Programming Problems\n",
    "### by [Jason DeBacker](http://jasondebacker.com), June 2018\n",
    "This Jupyter notebook was written using Python 3.6. \n",
    "\n",
    "[Numba](https://numba.pydata.org/) is a Python package useful for high performance computing.  It turns Python code (particularly Python code performing mathematical operations) into machine readable instructions using a just-in-time complier.\n",
    "\n",
    "Numba has wide-ranging appilcations, but we'll focus here on an easy way to use Numba to speed up the solution to dynamic programming problems.  \n",
    "\n",
    "Numba is sssawesome since it gives you the performance of C/Fortran while still using the simple syntax of Python.  In addition, it can be quite easy to implement.\n",
    "\n",
    "## Our application\n",
    "\n",
    "We solved our dynamic programming problem through value function iteration, a fixed point algorithm. At each iteration, we had to operate on the value function and find the optimal choice of control variable (e.g., $k'$) given our state vector (e.g., $k$).  We did this by applying the $max$ operator to an object we called `Vmat`.  `Vmat` was populated by looping over all combinations of $k$ and $k'$:\n",
    "\n",
    "```\n",
    "for i in range(sizek):  # loop over k\n",
    "        for j in range(sizek):  # loop over k'\n",
    "            Vmat[i, j] = e[i, j] + betafirm * V[j]\n",
    "```\n",
    "\n",
    "These loops are slow in Python. Let's see how slow..."
   ]
  },
  {
   "cell_type": "code",
   "execution_count": 72,
   "metadata": {},
   "outputs": [
    {
     "name": "stdout",
     "output_type": "stream",
     "text": [
      "Loop time (in seconds) =  5.918308000000003\n"
     ]
    }
   ],
   "source": [
    "# import packages\n",
    "import numpy as np\n",
    "import time\n",
    "\n",
    "# define the size of the grid\n",
    "sizek = 3000\n",
    "betafirm = 0.96\n",
    "\n",
    "# Initialize arrays\n",
    "Vmat = np.zeros((sizek, sizek))\n",
    "e = np.zeros((sizek, sizek))\n",
    "V = np.zeros(sizek)\n",
    "\n",
    "# Time our loop\n",
    "start_time = time.clock()\n",
    "for i in range(sizek):  # loop over k\n",
    "        for j in range(sizek):  # loop over k'\n",
    "            Vmat[i, j] = e[i, j] + betafirm * V[j]\n",
    "print('Loop time (in seconds) = ', time.clock() - start_time)"
   ]
  },
  {
   "cell_type": "markdown",
   "metadata": {},
   "source": [
    "Ok.  But how slow is this?  \n",
    "\n",
    "Let's see by vectorizing our code (which should run faster in Python than running naive loops)."
   ]
  },
  {
   "cell_type": "code",
   "execution_count": 73,
   "metadata": {},
   "outputs": [
    {
     "name": "stdout",
     "output_type": "stream",
     "text": [
      "Loop time (in seconds) =  0.14862300000000062\n"
     ]
    }
   ],
   "source": [
    "# Now we are timing the vectorized operation\n",
    "start_time = time.clock()\n",
    "VV = np.tile(np.reshape(V, (1, sizek)), (sizek, 1)) # here we've created a matrix for V(k') where each row is the same\n",
    "Vmat = e + betafirm * VV\n",
    "print('Loop time (in seconds) = ', time.clock() - start_time)"
   ]
  },
  {
   "cell_type": "markdown",
   "metadata": {},
   "source": [
    "That's a lot better!  So do we need Numba?  Good question.  It depends.  But vectorizing code can be difficult to read and write.  With large state spaces, it might even cause you memory issues as you end up carrying around objects that are larger than they otherwise need to be just so that dimensions line up for the array operations.\n",
    "\n",
    "So how would Numba handle this?  First, we need to import Numba.  Second, we need to define a function that will use Numba."
   ]
  },
  {
   "cell_type": "code",
   "execution_count": 74,
   "metadata": {
    "collapsed": true
   },
   "outputs": [],
   "source": [
    "# import packages\n",
    "import numba\n",
    "\n",
    "# define a function that will use Numba\n",
    "@numba.jit\n",
    "def VFI_loop(V, e, betafirm, sizek, Vmat):\n",
    "    for i in range(sizek):  # loop over k\n",
    "        for j in range(sizek):  # loop over k'\n",
    "            Vmat[i, j] = e[i, j] + betafirm * V[j]\n",
    "\n",
    "    return Vmat"
   ]
  },
  {
   "cell_type": "markdown",
   "metadata": {},
   "source": [
    "The `@numba.jit` decorator before the function definition tells us that this function will call Numba to be compiles into machine readable code (though there are ways to use Numba for a function call.  `jit` stands for \"just-in-time\", as in the Numba just-in-time complier.\n",
    "\n",
    "With this function defined, we can simply call it.  Let's see the speed here."
   ]
  },
  {
   "cell_type": "code",
   "execution_count": 76,
   "metadata": {},
   "outputs": [
    {
     "name": "stdout",
     "output_type": "stream",
     "text": [
      "Loop time (in seconds) =  0.017032999999997855\n"
     ]
    }
   ],
   "source": [
    "# Time our Numba function call\n",
    "start_time = time.clock()\n",
    "Vmat = VFI_loop(V, e, betafirm, sizek, Vmat)\n",
    "print('Loop time (in seconds) = ', time.clock() - start_time)"
   ]
  },
  {
   "cell_type": "markdown",
   "metadata": {},
   "source": [
    "Depending on `sizek`, Numba does even better than our vectorized code (play around with this Notebook and find that \"breakeven\" point!).  As a plus, it was a lot easier to understand to read the code and see how the arrays are determined and where is element of the arrays is coming from.\n",
    "\n",
    "When writing code, what matters it the total time it takes you to produce your desired result.  This includes both the time to write the code and the time it takes to execute the code.   Python usually dominates other languages on the former, but with Numba, it's often possible to write Python code and win on both counts."
   ]
  },
  {
   "cell_type": "code",
   "execution_count": null,
   "metadata": {
    "collapsed": true
   },
   "outputs": [],
   "source": []
  }
 ],
 "metadata": {
  "kernelspec": {
   "display_name": "Python 3",
   "language": "python",
   "name": "python3"
  },
  "language_info": {
   "codemirror_mode": {
    "name": "ipython",
    "version": 3
   },
   "file_extension": ".py",
   "mimetype": "text/x-python",
   "name": "python",
   "nbconvert_exporter": "python",
   "pygments_lexer": "ipython3",
   "version": "3.6.3"
  }
 },
 "nbformat": 4,
 "nbformat_minor": 2
}
