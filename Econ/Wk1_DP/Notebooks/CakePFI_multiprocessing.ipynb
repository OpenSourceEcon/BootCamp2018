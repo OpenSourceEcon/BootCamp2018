{
 "cells": [
  {
   "cell_type": "markdown",
   "metadata": {},
   "source": [
    "#  The Deterministic Cake Eating Problem - Policy Function Iteration Solution\n",
    "### by [Jason DeBacker](http://jasondebacker.com), June 2018\n",
    "This Jupyter notebook illustrates how to solve the deterministic cake eating problem using Coleman's policy function iteration (PFI) -- and how to speed up this solution using multiprocessing.\n",
    "\n",
    "## The Problem:\n",
    "\n",
    "$$V(w)=\\max_{c} u(c)+\\beta V(w'), \\forall w\\in[0,\\bar{w}]$$\n",
    "\n",
    "The necessary condition (after applying the envelope theorem) is given by the Euler equation:\n",
    "\n",
    "$$ u'(c) = \\beta u'(c') $$\n",
    "\n",
    "The unknowns in this system are functions: The value function, $V(w)$, and the policy function, $c = \\phi(w)$ (or, equivalently, $w' = p(w)$).\n",
    "\n",
    "## The Solution:\n",
    "\n",
    "We'll solve this problem with policy function iteration (PFI).  With this method, we'll use an iterative procedure to converge to a fixed point in function space, the true policy function, $\\phi(w)$.  \n",
    "\n",
    "The computational algorithm for PFI is as follows:\n",
    "\n",
    "1. Create a discrete grid of the state variable, $w$\n",
    "2. Make an initial guess at the policy function, $\\phi_{0}(w)$\n",
    "    * This will be a consumption value for each point in the state space\n",
    "3. Find $K\\phi(w)$, where $K\\phi(w)$ is the root (zero) of:\n",
    "$$ u'(K\\phi(w)) - \\beta u'(\\phi_{0}(w - K\\phi(w))$$\n",
    "4. Update the guess at the policy function: $\\phi_{1}(w) = K\\phi(w)$\n",
    "5. Repeat this process:\n",
    "$$\\phi_{i+1} \\ (w) = K\\phi(w), \\text{ where } K\\phi(w) \\text{ solves } u'(K\\phi(w)) - \\beta u'(\\phi_{i}(w - K\\phi(w)) = 0$$\n",
    "6. Stop when, $|\\phi_{i+1} \\ (w)-\\phi_{i}(w)|<\\varepsilon$, where $\\varepsilon$ is a small number.\n",
    "\n",
    "## Multiprocessing\n",
    "\n",
    "Note that in the application of the operator above, a root of the zero function is found for each $w$ *and* the root for any $w_{i}$ is independent of the root for any other $w_{j\\neq i}$ .   So we could solve for the root of these equations for several values of $w$ at once by sending the root finding problem out to several CPUs at one time.  \n",
    "\n",
    "Below, we will illustrate how to do this, and  measure how much speed it buys you, in Python using the [Dask](https://dask.pydata.org/en/latest/) package."
   ]
  },
  {
   "cell_type": "code",
   "execution_count": 1,
   "metadata": {},
   "outputs": [],
   "source": [
    "# Import packages\n",
    "import numpy as np\n",
    "import matplotlib.pyplot as plt\n",
    "import scipy.optimize as opt\n",
    "from scipy import interpolate\n",
    "import dask\n",
    "from dask.distributed import Client\n",
    "import dask.multiprocessing\n",
    "from timeit import default_timer as timer  # to time computations\n",
    "import os\n",
    "\n",
    "# to print plots inline\n",
    "%matplotlib inline\n",
    "\n",
    "## Stuff for multiprocessing\n",
    "# Specify client\n",
    "client = Client()\n",
    "num_workers = os.cpu_count()"
   ]
  },
  {
   "cell_type": "markdown",
   "metadata": {},
   "source": [
    "## Set parameters and create grid for state space\n",
    "\n",
    "Parameters:\n",
    "* $\\beta$ = rate of time preference\n",
    "* $\\sigma$ = coefficient of relative risk aversion (if $\\sigma = 1$, $u(c)=log(c)$), parameter describes the curvature of the utility function"
   ]
  },
  {
   "cell_type": "code",
   "execution_count": 2,
   "metadata": {
    "collapsed": true
   },
   "outputs": [],
   "source": [
    "beta = 0.95\n",
    "sigma = 1.0\n",
    "R = 1\n",
    "\n",
    "'''\n",
    "------------------------------------------------------------------------\n",
    "Create Grid for State Space    \n",
    "------------------------------------------------------------------------\n",
    "lb_w      = scalar, lower bound of cake grid\n",
    "ub_w      = scalar, upper bound of cake grid \n",
    "size_w    = integer, number of grid points in cake state space\n",
    "w_grid    = vector, size_w x 1 vector of cake grid points \n",
    "------------------------------------------------------------------------\n",
    "'''\n",
    "lb_w = 0.4 \n",
    "ub_w = 2.0 \n",
    "size_w = 100 # Number of grid points\n",
    "w_grid = np.linspace(lb_w, ub_w, size_w)"
   ]
  },
  {
   "cell_type": "markdown",
   "metadata": {},
   "source": [
    "## Create functions to use in solution"
   ]
  },
  {
   "cell_type": "code",
   "execution_count": 3,
   "metadata": {
    "collapsed": true
   },
   "outputs": [],
   "source": [
    "def utility(w, wprime, sigma, R):\n",
    "    \"\"\"\n",
    "    Per period utility function\n",
    "    \"\"\"\n",
    "    C = w - wprime / R\n",
    "    try:\n",
    "        C[C<=0] = 1e-10 # replace 0 and negative consumption with a tiny value - to impose non-negativity on cons\n",
    "    except TypeError:\n",
    "        if C <= 0:\n",
    "            C = 1e-10\n",
    "    if sigma == 1:\n",
    "        U = np.log(C)\n",
    "    else:\n",
    "        U = (C ** (1 - sigma)) / (1 - sigma)\n",
    "    \n",
    "    return U\n",
    "\n",
    "\n",
    "def u_prime(C, sigma):\n",
    "    MU = C ** - sigma\n",
    "    try:\n",
    "        MU[C<=0] = 999999999 # replace 0 and negative consumption with a tiny value - to impose non-negativity on cons\n",
    "    except TypeError:\n",
    "        if C <= 0:\n",
    "            MU = 999999999\n",
    "    \n",
    "    return MU"
   ]
  },
  {
   "cell_type": "markdown",
   "metadata": {},
   "source": [
    "## Policy Function Iteration\n",
    "\n",
    "\n",
    "# Serial solution\n",
    "\n",
    "First, let's solve the problem in a serial manner as we've done before.  This will give us a baseline compute time to compare against."
   ]
  },
  {
   "cell_type": "code",
   "execution_count": 4,
   "metadata": {
    "collapsed": true
   },
   "outputs": [],
   "source": [
    "def coleman_operator(phi, w_grid, params):\n",
    "    '''\n",
    "    The Coleman operator, which takes an existing guess phi of the\n",
    "    optimal consumption policy and computes and returns the updated function\n",
    "    Kphi on the grid points.\n",
    "    '''\n",
    "    beta, sigma = params\n",
    "    \n",
    "    # === Apply linear interpolation to phi === #\n",
    "    phi_func = interpolate.interp1d(w_grid, phi, fill_value='extrapolate')\n",
    "\n",
    "    # == Initialize Kphi if necessary == #\n",
    "    Kphi = np.empty_like(phi)\n",
    "\n",
    "    # == solve for updated consumption value\n",
    "    for i, w in enumerate(w_grid):\n",
    "        def h(c):\n",
    "            return u_prime(c, sigma) - beta * u_prime(phi_func(R * (w - c)), sigma)\n",
    "        results = opt.root(h, 1e-10)\n",
    "        c_star = results.x[0]\n",
    "        Kphi[i] = c_star\n",
    "        \n",
    "    return Kphi"
   ]
  },
  {
   "cell_type": "code",
   "execution_count": 5,
   "metadata": {},
   "outputs": [
    {
     "name": "stdout",
     "output_type": "stream",
     "text": [
      "Policy function converged after this many iterations: 257\n",
      "Serial compute time is  84.3456991139974\n"
     ]
    }
   ],
   "source": [
    "'''\n",
    "------------------------------------------------------------------------\n",
    "Policy Function Iteration    \n",
    "------------------------------------------------------------------------\n",
    "PFtol     = scalar, tolerance required for policy function to converge\n",
    "PFdist    = scalar, distance between last two policy functions\n",
    "PFmaxiter = integer, maximum number of iterations for policy function\n",
    "phi       = vector, policy function for choice of consumption at each iteration\n",
    "PFstore   = matrix, stores phi at each iteration \n",
    "PFiter    = integer, current iteration number\n",
    "PF_params = tuple, contains parameters to pass into Coleman operator: beta, sigma\n",
    "new_phi   = vector, updated policy function after applying Coleman operator \n",
    "------------------------------------------------------------------------\n",
    "'''\n",
    "PFtol = 1e-8 \n",
    "PFdist = 7.0 \n",
    "PFmaxiter = 500 \n",
    "phi = w_grid # initial guess at policy function is to eat all cake\n",
    "PFstore = np.zeros((size_w, PFmaxiter)) #initialize PFstore array\n",
    "PFiter = 1 \n",
    "PF_params = (beta, sigma)\n",
    "start = timer()\n",
    "while PFdist > PFtol and PFiter < PFmaxiter:\n",
    "    PFstore[:, PFiter] = phi\n",
    "    new_phi = coleman_operator(phi, w_grid, PF_params)\n",
    "    PFdist = (np.absolute(phi - new_phi)).max()\n",
    "    phi = new_phi\n",
    "#     print('Iteration ', PFiter, ' distance = ', PFdist)\n",
    "    PFiter += 1\n",
    "end = timer()\n",
    "if PFiter < PFmaxiter:\n",
    "    print('Policy function converged after this many iterations:', PFiter)\n",
    "else:\n",
    "    print('Policy function did not converge')   \n",
    "print('Serial compute time is ', end - start)"
   ]
  },
  {
   "cell_type": "markdown",
   "metadata": {},
   "source": [
    "# Parallel solution\n",
    "\n",
    "Next, let's parallelize this solution by chunking up our grid and applying the Coleman operator to each of those chunks simultaneously.  This is done in the `coleman_dask2()` function."
   ]
  },
  {
   "cell_type": "code",
   "execution_count": 6,
   "metadata": {
    "collapsed": true
   },
   "outputs": [],
   "source": [
    "def coleman_operator_dask(phi, w_grid, params):\n",
    "    # == Initialize Kphi if necessary == #\n",
    "    Kphi = np.empty_like(phi)\n",
    "    \n",
    "    # == creat function to split up grid == #\n",
    "    def split(a, n):\n",
    "        k, m = divmod(len(a), n)\n",
    "        chunks = list((a[i * k + min(i, m):(i + 1) * k + min(i + 1, m)] for i in range(n)))\n",
    "        return chunks\n",
    "    \n",
    "     # == solve for updated consumption value == #\n",
    "    lazy_values = []\n",
    "    chunks = split(range(size_w), num_workers)\n",
    "    for chunk in chunks:\n",
    "        lazy_values.append(dask.delayed(coleman_operator)(phi[list(chunk)],\n",
    "                                                          w_grid[list(chunk)],\n",
    "                                                          params))\n",
    "    results = dask.compute(*lazy_values, get=dask.multiprocessing.get,\n",
    "                      num_workers=4)\n",
    "    \n",
    "    # Unpack results that were computed simultaneously and put in correct places in vector\n",
    "    for i, result in enumerate(results):\n",
    "        Kphi[list(chunks[i])] = result\n",
    "\n",
    "    return Kphi"
   ]
  },
  {
   "cell_type": "code",
   "execution_count": 7,
   "metadata": {},
   "outputs": [
    {
     "name": "stdout",
     "output_type": "stream",
     "text": [
      "Policy function converged after this many iterations: 257\n",
      "Parallel compute time is  51.27704239601735\n"
     ]
    }
   ],
   "source": [
    "'''\n",
    "------------------------------------------------------------------------\n",
    "Policy Function Iteration  - with multiprocessing \n",
    "------------------------------------------------------------------------\n",
    "PFtol     = scalar, tolerance required for policy function to converge\n",
    "PFdist    = scalar, distance between last two policy functions\n",
    "PFmaxiter = integer, maximum number of iterations for policy function\n",
    "phi       = vector, policy function for choice of consumption at each iteration\n",
    "PFstore   = matrix, stores phi at each iteration \n",
    "PFiter    = integer, current iteration number\n",
    "PF_params = tuple, contains parameters to pass into Coleman operator: beta, sigma\n",
    "new_phi   = vector, updated policy function after applying Coleman operator \n",
    "------------------------------------------------------------------------\n",
    "'''\n",
    "PFtol = 1e-8 \n",
    "PFdist = 7.0 \n",
    "PFmaxiter = 500 \n",
    "phi = w_grid # initial guess at policy function is to eat all cake\n",
    "PFstore = np.zeros((size_w, PFmaxiter)) #initialize PFstore array\n",
    "PFiter = 1 \n",
    "PF_params = (beta, sigma)\n",
    "start = timer()\n",
    "while PFdist > PFtol and PFiter < PFmaxiter:\n",
    "    PFstore[:, PFiter] = phi\n",
    "    new_phi = coleman_operator_dask(phi, w_grid, PF_params)\n",
    "    PFdist = (np.absolute(phi - new_phi)).max()\n",
    "    phi = new_phi\n",
    "#     print('Iteration ', PFiter, ' distance = ', PFdist)\n",
    "    PFiter += 1\n",
    "end = timer()\n",
    "if PFiter < PFmaxiter:\n",
    "    print('Policy function converged after this many iterations:', PFiter)\n",
    "else:\n",
    "    print('Policy function did not converge')   \n",
    "print('Parallel compute time is ', end - start)"
   ]
  },
  {
   "cell_type": "markdown",
   "metadata": {},
   "source": [
    "# Parallel - high overhead example\n",
    "\n",
    "We could also try to parallize by sending each grid point (rather than chunks of grid points) out to different workers.  This can work in general, but since the compute time for at each grid point is so small, the computational overhead in keeping track of the multiple processes ends up costing too much relative to the ability to apply the Coleman operator simultaneously.  You can see this by executing the following cell."
   ]
  },
  {
   "cell_type": "code",
   "execution_count": 8,
   "metadata": {
    "collapsed": true
   },
   "outputs": [],
   "source": [
    "def coleman_operator_dask_slow(phi, w_grid, params):\n",
    "    '''\n",
    "    The Coleman operator, which takes an existing guess phi of the\n",
    "    optimal consumption policy and computes and returns the updated function\n",
    "    Kphi on the grid points.\n",
    "    '''\n",
    "    beta, sigma = params\n",
    "    \n",
    "    # === Apply linear interpolation to phi === #\n",
    "    phi_func = interpolate.interp1d(w_grid, phi, fill_value='extrapolate')\n",
    "\n",
    "    # == Initialize Kphi if necessary == #\n",
    "    Kphi = np.empty_like(phi)\n",
    "\n",
    "    # == Create function for Euler equation == #\n",
    "    def euler(c, args):\n",
    "        (w, phi_func, beta, sigma, R) = args\n",
    "        return u_prime(c, sigma) - beta * u_prime(phi_func(R * (w - c)), sigma)\n",
    "        \n",
    "    # == solve for updated consumption value == #\n",
    "    lazy_values = []\n",
    "    for i, w in enumerate(w_grid):\n",
    "        euler_args = [w, phi_func, beta, sigma, R]\n",
    "        lazy_values.append(dask.delayed(opt.root)(euler, 1e-10, args=euler_args))\n",
    "    results = dask.compute(*lazy_values, get=dask.multiprocessing.get,\n",
    "                      num_workers=4)\n",
    " \n",
    "    # Unpack results that were computed simultaneously and put in correct places in vector\n",
    "    for i, result in enumerate(results):\n",
    "        c_star = result.x[0]\n",
    "        Kphi[i] = c_star\n",
    "        \n",
    "    return Kphi"
   ]
  },
  {
   "cell_type": "code",
   "execution_count": 9,
   "metadata": {},
   "outputs": [
    {
     "name": "stdout",
     "output_type": "stream",
     "text": [
      "Policy function converged after this many iterations: 257\n",
      "Parallel compute time is  116.51090636101435\n"
     ]
    }
   ],
   "source": [
    "'''\n",
    "------------------------------------------------------------------------\n",
    "Policy Function Iteration  - with multiprocessing \n",
    "------------------------------------------------------------------------\n",
    "PFtol     = scalar, tolerance required for policy function to converge\n",
    "PFdist    = scalar, distance between last two policy functions\n",
    "PFmaxiter = integer, maximum number of iterations for policy function\n",
    "phi       = vector, policy function for choice of consumption at each iteration\n",
    "PFstore   = matrix, stores phi at each iteration \n",
    "PFiter    = integer, current iteration number\n",
    "PF_params = tuple, contains parameters to pass into Coleman operator: beta, sigma\n",
    "new_phi   = vector, updated policy function after applying Coleman operator \n",
    "------------------------------------------------------------------------\n",
    "'''\n",
    "PFtol = 1e-8 \n",
    "PFdist = 7.0 \n",
    "PFmaxiter = 500 \n",
    "phi = w_grid # initial guess at policy function is to eat all cake\n",
    "PFstore = np.zeros((size_w, PFmaxiter)) #initialize PFstore array\n",
    "PFiter = 1 \n",
    "PF_params = (beta, sigma)\n",
    "start = timer()\n",
    "while PFdist > PFtol and PFiter < PFmaxiter:\n",
    "    PFstore[:, PFiter] = phi\n",
    "    new_phi = coleman_operator_dask_slow(phi, w_grid, PF_params)\n",
    "    PFdist = (np.absolute(phi - new_phi)).max()\n",
    "    phi = new_phi\n",
    "#     print('Iteration ', PFiter, ' distance = ', PFdist)\n",
    "    PFiter += 1\n",
    "end = timer()\n",
    "if PFiter < PFmaxiter:\n",
    "    print('Policy function converged after this many iterations:', PFiter)\n",
    "else:\n",
    "    print('Policy function did not converge')  \n",
    "print('Parallel compute time is ', end - start)"
   ]
  }
 ],
 "metadata": {
  "kernelspec": {
   "display_name": "Python 3",
   "language": "python",
   "name": "python3"
  },
  "language_info": {
   "codemirror_mode": {
    "name": "ipython",
    "version": 3
   },
   "file_extension": ".py",
   "mimetype": "text/x-python",
   "name": "python",
   "nbconvert_exporter": "python",
   "pygments_lexer": "ipython3",
   "version": "3.6.3"
  }
 },
 "nbformat": 4,
 "nbformat_minor": 2
}
