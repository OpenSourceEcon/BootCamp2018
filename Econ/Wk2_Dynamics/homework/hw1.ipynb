{
 "cells": [
  {
   "cell_type": "markdown",
   "metadata": {},
   "source": [
    "## OSM Bootcamp 2018 Exercise Set 1\n",
    "\n",
    "\n",
    "#### John Stachurski"
   ]
  },
  {
   "cell_type": "markdown",
   "metadata": {},
   "source": [
    "### Exercise 1\n",
    "\n",
    "Let $X$ be an $n \\times n$ matrix with all positive elements.  The spectral radius $r(X)$ of $X$ is maximum of $|\\lambda|$ over all eigenvalues $\\lambda$ of $X$, where $|\\cdot|$ is the modulus of a complex number.\n",
    "\n",
    "A version of the **local spectral radius theorem** states that if $X$ has all positive entries and $v$ is any strictly positive $n \\times 1$ vector, then\n",
    "\n",
    "$$\n",
    "    \\lim_{i \\to \\infty} \\| X^i v \\|^{1/i} \\to r(X) \n",
    "    \\qquad \\qquad \\text{(LSR)}\n",
    "$$\n",
    "\n",
    "where $\\| \\cdot \\|$ is the usual Euclidean norm.\n",
    "\n",
    "Intuitively, the norm of the iterates of a positive vector scale like $r(X)$ asymptotically.\n",
    "\n",
    "The data file `matrix_data.txt` contains the data for a single matrix $X$.  \n",
    "\n",
    "1. Read it in and compute the spectral raduis using the tools for working with eigenvalues in `scipy.linalg`.\n",
    "\n",
    "2. Test the claim in (LSR) iteratively, computing $\\| X^i v \\|^{1/i}$ for successively larger values of $i$.  See if the sequence so generated converges to $r(A)$."
   ]
  },
  {
   "cell_type": "markdown",
   "metadata": {
    "collapsed": true
   },
   "source": [
    "### Exercise 2"
   ]
  },
  {
   "cell_type": "markdown",
   "metadata": {},
   "source": [
    "Recall that the quadratic map generates time series of the form\n",
    "\n",
    "$$ x_{t+1} = 4 \\, x_t (1 - x_t) $$\n",
    "\n",
    "for some given $x_0$, and that these trajectories are chaotic.\n",
    "\n",
    "This means that different initial conditions generate seemingly very different outcomes.\n",
    "\n",
    "Nevertheless, the regions of the state space where these trajectories spend most of their time are in fact typically invariant to the initial condition.\n",
    "\n",
    "Illustrate this by generating 100 histograms of time series generated from the quadratic map, with $x_0$ drawn independently from the uniform distribution on $(0, 1)$.  \n",
    "\n",
    "Do they all look alike?\n",
    "\n",
    "Try to make your code efficient.\n",
    "\n"
   ]
  },
  {
   "cell_type": "markdown",
   "metadata": {
    "collapsed": true
   },
   "source": [
    "### Exercise 3"
   ]
  },
  {
   "cell_type": "markdown",
   "metadata": {},
   "source": [
    "In the lecture it was claim that, if $(\\mathbb X, g)$ is a dynamical system, $g$ is continuous at $\\hat x \\in \\mathbb X$ and, for some $x \\in \\mathbb X$, $g^t(x) \\to \\hat x$, then $\\hat x$ is a steady state of $(\\mathbb X, g)$.\n",
    "\n",
    "Prove this."
   ]
  }
 ],
 "metadata": {
  "kernelspec": {
   "display_name": "Python 3",
   "language": "python",
   "name": "python3"
  },
  "language_info": {
   "codemirror_mode": {
    "name": "ipython",
    "version": 3
   },
   "file_extension": ".py",
   "mimetype": "text/x-python",
   "name": "python",
   "nbconvert_exporter": "python",
   "pygments_lexer": "ipython3",
   "version": "3.6.4"
  }
 },
 "nbformat": 4,
 "nbformat_minor": 2
}
