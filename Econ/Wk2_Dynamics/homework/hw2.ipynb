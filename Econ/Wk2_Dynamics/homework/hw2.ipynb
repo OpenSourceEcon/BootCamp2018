{
 "cells": [
  {
   "cell_type": "markdown",
   "metadata": {},
   "source": [
    "## Homework 2\n",
    "\n",
    "#### John Stachurski\n",
    "\n",
    "OSM 2018"
   ]
  },
  {
   "cell_type": "markdown",
   "metadata": {},
   "source": [
    "### Exercise 1"
   ]
  },
  {
   "cell_type": "markdown",
   "metadata": {},
   "source": [
    "Write your own version of a one dimensional [kernel density estimator](https://en.wikipedia.org/wiki/Kernel_density_estimation), which estimates a density from a sample.\n",
    "\n",
    "Write it as a class that takes the data $X$ and bandwidth $h$ when initialized and provides a method $f$ such that\n",
    "\n",
    "$$\n",
    "    f(x) = \\frac{1}{hn} \\sum_{i=1}^n \n",
    "    K \\left( \\frac{x-X_i}{h} \\right)\n",
    "$$\n",
    "\n",
    "For $K$ use the Gaussian kernel ($K$ is the standard normal density).\n",
    "\n",
    "Write the class so that the bandwidth defaults to Silverman's rule (see the \"rule of thumb\" discussion on [this page](https://en.wikipedia.org/wiki/Kernel_density_estimation)).  Test the class you have written by going through the steps\n",
    "\n",
    "1. simulate data $X_1, \\ldots, X_n$ from distribution $\\phi$\n",
    "2. plot the kernel density estimate over a suitable range\n",
    "2. plot the density of $\\phi$ on the same figure\n",
    "\n",
    "for distributions $\\phi$ of the following types\n",
    "\n",
    "\n",
    "* [beta distribution](https://en.wikipedia.org/wiki/Beta_distribution) with $\\alpha = \\beta = 2$\n",
    "* [beta distribution](https://en.wikipedia.org/wiki/Beta_distribution) with $\\alpha = 2$ and $\\beta = 5$\n",
    "* [beta distribution](https://en.wikipedia.org/wiki/Beta_distribution) with $\\alpha = \\beta = 0.5$\n",
    "\n",
    "Use $n=100$.\n",
    "\n",
    "Make a comment on your results.  (Do you think this is a good estimator of these distributions?)"
   ]
  },
  {
   "cell_type": "markdown",
   "metadata": {},
   "source": [
    "### Exercise 2"
   ]
  },
  {
   "cell_type": "markdown",
   "metadata": {},
   "source": [
    "In class we discussed the following fact:  For the $AR(1)$ process\n",
    "\n",
    "$$ X_{t+1} = \\rho X_t + b + \\sigma \\xi_{t+1} $$\n",
    "\n",
    "with $\\{ \\xi_t \\}$ iid and standard normal, \n",
    "\n",
    "$$ \n",
    "    \\psi_t = N(\\mu, s^2) \\implies \\psi_{t+1} \n",
    "    = N(\\rho \\mu + b, \\rho^2 s^2 + \\sigma^2) \n",
    "$$"
   ]
  },
  {
   "cell_type": "markdown",
   "metadata": {},
   "source": [
    "Confirm this, at least approximately, by simulation.  Let\n",
    "\n",
    "* $\\rho = 0.9$\n",
    "* $b = 0.0$\n",
    "* $\\sigma = 0.1$\n",
    "* $\\mu = -3$\n",
    "* $s = 0.2$\n",
    "\n",
    "First, plot $\\psi_t$ and $\\psi_{t+1}$ using the true distributions described above.\n",
    "\n",
    "Second, plot $\\psi_{t+1}$ on the same figure (in a different color) as follows:\n",
    "\n",
    "1. Generate $n$ draws of $X_t$ from the $N(\\mu, s^2)$ distribution\n",
    "2. Update them all using the rule $X_{t+1} = \\rho X_t + b + \\sigma \\xi_{t+1}$\n",
    "3. Use the resulting sample of $X_{t+1}$ values to produce a density estimate via kernel density estimation.\n",
    "\n",
    "Try this for several different values of $n$ and confirm that the simulation based estimate of $\\psi_{t+1}$ does converge to the theoretical distribution."
   ]
  },
  {
   "cell_type": "markdown",
   "metadata": {},
   "source": [
    "### Exercise 3"
   ]
  },
  {
   "cell_type": "markdown",
   "metadata": {},
   "source": [
    "In the lecture it was claimed that, for $n \\times n$ matrix $A$, we have\n",
    "\n",
    "$$ r(A) < 1 \\implies A^k \\to 0 $$\n",
    "\n",
    "where convergence is in terms of the spectral norm.  \n",
    "\n",
    "Prove this using Gelfand's formula."
   ]
  }
 ],
 "metadata": {
  "kernelspec": {
   "display_name": "Python 3",
   "language": "python",
   "name": "python3"
  },
  "language_info": {
   "codemirror_mode": {
    "name": "ipython",
    "version": 3
   },
   "file_extension": ".py",
   "mimetype": "text/x-python",
   "name": "python",
   "nbconvert_exporter": "python",
   "pygments_lexer": "ipython3",
   "version": "3.6.4"
  }
 },
 "nbformat": 4,
 "nbformat_minor": 2
}
