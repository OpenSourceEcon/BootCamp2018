{
 "cells": [
  {
   "cell_type": "markdown",
   "metadata": {},
   "source": [
    "## Simulation of Consumption Growth\n",
    "\n",
    "Prepared for OSM 2018\n",
    "\n",
    "#### John Stachurski"
   ]
  },
  {
   "cell_type": "code",
   "execution_count": 1,
   "metadata": {},
   "outputs": [],
   "source": [
    "import numpy as np\n",
    "from numpy.random import randn\n",
    "from numba import jit, njit, prange\n",
    "import matplotlib.pyplot as plt"
   ]
  },
  {
   "cell_type": "markdown",
   "metadata": {},
   "source": [
    "Our task is to simulate consumption growth in the model of Schorfheide, Song and Yaron (ECMA, 2018).\n",
    "\n",
    "Parameter values are taken from that paper.\n",
    "\n",
    "\n",
    "See the slides for details of the model."
   ]
  },
  {
   "cell_type": "code",
   "execution_count": 2,
   "metadata": {},
   "outputs": [],
   "source": [
    "@njit\n",
    "def simulate_ssy(μ_c=0.0016,\n",
    "                 ρ=0.987,\n",
    "                 ϕ_z=0.215,\n",
    "                 σ_bar=0.0032,\n",
    "                 ϕ_c=1.0,\n",
    "                 ρ_hz=0.992,\n",
    "                 σ_hz=np.sqrt(0.0039),\n",
    "                 ρ_hc=0.991,\n",
    "                 σ_hc=np.sqrt(0.0096),\n",
    "                 ts_length=1000):  \n",
    "\n",
    "        # Initial conditions\n",
    "        z, h_z, h_c = 0.0, 0.0, 0.0\n",
    "\n",
    "        # Allocate memory  \n",
    "        c_growth = np.zeros(ts_length)\n",
    "\n",
    "        # Simulate all stochastic processes \n",
    "        for t in range(ts_length-1):\n",
    "            σ_z = ϕ_z * σ_bar * np.exp(h_z)\n",
    "            σ_c = ϕ_c * σ_bar * np.exp(h_c)\n",
    "            \n",
    "            # Evaluate consumption and dividends\n",
    "            c_growth[t] = μ_c + z + σ_c * randn()\n",
    "\n",
    "            # Update states\n",
    "            z = ρ * z + np.sqrt(1 - ρ**2) * σ_z * randn()\n",
    "            h_z = ρ_hz * h_z + σ_hz * randn()\n",
    "            h_c = ρ_hc * h_c + σ_hc * randn()\n",
    "\n",
    "        return c_growth[1:]"
   ]
  },
  {
   "cell_type": "markdown",
   "metadata": {},
   "source": [
    "Let's simulate one consumption path of length 1000."
   ]
  },
  {
   "cell_type": "code",
   "execution_count": 3,
   "metadata": {},
   "outputs": [],
   "source": [
    "n = 10_000\n",
    "c_growth = simulate_ssy(ts_length=n)\n",
    "mean_c_growth = c_growth.mean()"
   ]
  },
  {
   "cell_type": "code",
   "execution_count": 4,
   "metadata": {},
   "outputs": [
    {
     "data": {
      "image/png": "[encoded data removed]",
      "text/plain": [
       "<matplotlib.figure.Figure at 0x7f2e59191a20>"
      ]
     },
     "metadata": {},
     "output_type": "display_data"
    }
   ],
   "source": [
    "fig, ax = plt.subplots()\n",
    "ax.plot(c_growth, label='$g_t$')\n",
    "ax.plot(mean_c_growth * np.ones(n), \n",
    "        'k-', \n",
    "        label='$E[g_t]$')\n",
    "ax.legend()\n",
    "plt.show()"
   ]
  },
  {
   "cell_type": "markdown",
   "metadata": {
    "collapsed": true
   },
   "source": [
    "With a longer path, we can get a better estimate:"
   ]
  },
  {
   "cell_type": "code",
   "execution_count": 5,
   "metadata": {},
   "outputs": [
    {
     "data": {
      "text/plain": [
       "0.001610655067811343"
      ]
     },
     "execution_count": 5,
     "metadata": {},
     "output_type": "execute_result"
    }
   ],
   "source": [
    "n = 1_000_000\n",
    "c_growth = simulate_ssy(ts_length=n)\n",
    "c_growth.mean()"
   ]
  },
  {
   "cell_type": "markdown",
   "metadata": {
    "collapsed": true
   },
   "source": [
    "### Class Exercise\n",
    "\n",
    "Since this model is asymptotically stationanry and ergodic, another way to compute the stationary mean is to simulate many independent paths to some suitably large $T$ and then take the average of the cross-section.\n",
    "\n",
    "In other words, our estimate is\n",
    "\n",
    "$$ \\frac{1}{m} \\sum_{i=1}^m g_T^i $$\n",
    "\n",
    "where $g_T^i$ is consumption of the $i$-th household at time $T$.\n",
    "\n",
    "Compute this estimate at the default parameter values using a large value of $m$, such as 1,000,000.\n",
    "\n",
    "If possible, use parallelization to speed up your code."
   ]
  },
  {
   "cell_type": "code",
   "execution_count": 6,
   "metadata": {},
   "outputs": [
    {
     "name": "stdout",
     "output_type": "stream",
     "text": [
      "solution below!\n",
      "solution below!\n",
      "solution below!\n",
      "solution below!\n",
      "solution below!\n",
      "solution below!\n",
      "solution below!\n",
      "solution below!\n",
      "solution below!\n",
      "solution below!\n",
      "solution below!\n",
      "solution below!\n",
      "solution below!\n",
      "solution below!\n",
      "solution below!\n",
      "solution below!\n",
      "solution below!\n",
      "solution below!\n",
      "solution below!\n",
      "solution below!\n"
     ]
    }
   ],
   "source": [
    "for i in range(20):\n",
    "    print(\"solution below!\")"
   ]
  },
  {
   "cell_type": "markdown",
   "metadata": {},
   "source": [
    "Here's a jitted function that returns one draw."
   ]
  },
  {
   "cell_type": "code",
   "execution_count": 7,
   "metadata": {},
   "outputs": [],
   "source": [
    "@njit\n",
    "def compute_c_growth(μ_c=0.0016,\n",
    "                 ρ=0.987,\n",
    "                 ϕ_z=0.215,\n",
    "                 σ_bar=0.0032,\n",
    "                 ϕ_c=1.0,\n",
    "                 ρ_hz=0.992,\n",
    "                 σ_hz=np.sqrt(0.0039),\n",
    "                 ρ_hc=0.991,\n",
    "                 σ_hc=np.sqrt(0.0096),\n",
    "                 T=1000):\n",
    "    \n",
    "\n",
    "    z, h_z, h_c = 0.0, 0.0, 0.0\n",
    "    # Simulate all stochastic processes \n",
    "    for t in range(T):\n",
    "        σ_z = ϕ_z * σ_bar * np.exp(h_z)\n",
    "        # Update states\n",
    "        z = ρ * z + np.sqrt(1 - ρ**2) * σ_z * randn()\n",
    "        h_z = ρ_hz * h_z + σ_hz * randn()\n",
    "        h_c = ρ_hc * h_c + σ_hc * randn()\n",
    "\n",
    "    # Evaluate consumption \n",
    "    σ_c = ϕ_c * σ_bar * np.exp(h_c)\n",
    "    c_growth = μ_c + z + σ_c * randn()\n",
    "    return c_growth\n"
   ]
  },
  {
   "cell_type": "code",
   "execution_count": 8,
   "metadata": {},
   "outputs": [
    {
     "data": {
      "text/plain": [
       "0.002671596387602368"
      ]
     },
     "execution_count": 8,
     "metadata": {},
     "output_type": "execute_result"
    }
   ],
   "source": [
    "compute_c_growth()"
   ]
  },
  {
   "cell_type": "markdown",
   "metadata": {},
   "source": [
    "Now let's compute a large number of draws in a parallelized loop."
   ]
  },
  {
   "cell_type": "code",
   "execution_count": 9,
   "metadata": {},
   "outputs": [],
   "source": [
    "@njit(parallel=True)\n",
    "def compute_mean(m=1_000_000, T=1000):\n",
    "    s = 0.0\n",
    "    for i in prange(m):\n",
    "        s += compute_c_growth(T=T)\n",
    "    return s / m"
   ]
  },
  {
   "cell_type": "code",
   "execution_count": 10,
   "metadata": {},
   "outputs": [
    {
     "data": {
      "text/plain": [
       "0.001592687024188061"
      ]
     },
     "execution_count": 10,
     "metadata": {},
     "output_type": "execute_result"
    }
   ],
   "source": [
    "compute_mean()"
   ]
  },
  {
   "cell_type": "code",
   "execution_count": null,
   "metadata": {},
   "outputs": [],
   "source": []
  }
 ],
 "metadata": {
  "kernelspec": {
   "display_name": "Python 3",
   "language": "python",
   "name": "python3"
  },
  "language_info": {
   "codemirror_mode": {
    "name": "ipython",
    "version": 3
   },
   "file_extension": ".py",
   "mimetype": "text/x-python",
   "name": "python",
   "nbconvert_exporter": "python",
   "pygments_lexer": "ipython3",
   "version": "3.6.4"
  }
 },
 "nbformat": 4,
 "nbformat_minor": 2
}
