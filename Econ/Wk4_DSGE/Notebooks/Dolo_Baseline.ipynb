{
 "cells": [
  {
   "cell_type": "markdown",
   "metadata": {},
   "source": [
    "# Baseline Tax Model\n",
    "\n",
    "(Insert nice description of problem...)\n"
   ]
  },
  {
   "cell_type": "markdown",
   "metadata": {},
   "source": [
    "## Characteristic Equations\n",
    "\n",
    "\\begin{align*}\n",
    "  z_t &= \\rho_z z_{t-1} + \\varepsilon_{t} \\\\\n",
    "  r_t &= \\alpha k_t^{\\alpha - 1} (e^{z_t} l_t)^{1 - \\alpha} \\\\\n",
    "  w_t &= (1 - \\alpha) (k_t / l_t)^{\\alpha} e^{(1 - \\alpha)z_t} \\\\\n",
    "  T_t &= \\tau (w_t l_t + (r_t - \\delta) k_t) \\\\\n",
    "  c_t &= (1 - \\tau)(w_t l_t + (r_t - \\delta) k_t) + k_t + T_t - k_{t+1} \\\\\n",
    "  \\chi l_t^{\\theta} &= c_t^{-\\gamma} w_t (1 - \\tau) \\\\\n",
    "  c_t^{-\\gamma} &= \\beta E_t [ c_{t+1}^{-\\gamma} [(r_{t+1} - \\delta)(1 - \\tau) + 1]\n",
    "\\end{align*}"
   ]
  },
  {
   "cell_type": "code",
   "execution_count": 59,
   "metadata": {},
   "outputs": [],
   "source": [
    "import dolo\n",
    "import matplotlib.pyplot as plt\n",
    "import numpy as np\n",
    "\n",
    "\n",
    "%matplotlib inline"
   ]
  },
  {
   "cell_type": "code",
   "execution_count": 2,
   "metadata": {},
   "outputs": [
    {
     "data": {
      "text/html": [
       "<style>\n",
       "    .source .hll { background-color: #ffffcc }\n",
       ".source  { background: #f8f8f8; }\n",
       ".source .c { color: #408080; font-style: italic } /* Comment */\n",
       ".source .err { border: 1px solid #FF0000 } /* Error */\n",
       ".source .k { color: #008000; font-weight: bold } /* Keyword */\n",
       ".source .o { color: #666666 } /* Operator */\n",
       ".source .ch { color: #408080; font-style: italic } /* Comment.Hashbang */\n",
       ".source .cm { color: #408080; font-style: italic } /* Comment.Multiline */\n",
       ".source .cp { color: #BC7A00 } /* Comment.Preproc */\n",
       ".source .cpf { color: #408080; font-style: italic } /* Comment.PreprocFile */\n",
       ".source .c1 { color: #408080; font-style: italic } /* Comment.Single */\n",
       ".source .cs { color: #408080; font-style: italic } /* Comment.Special */\n",
       ".source .gd { color: #A00000 } /* Generic.Deleted */\n",
       ".source .ge { font-style: italic } /* Generic.Emph */\n",
       ".source .gr { color: #FF0000 } /* Generic.Error */\n",
       ".source .gh { color: #000080; font-weight: bold } /* Generic.Heading */\n",
       ".source .gi { color: #00A000 } /* Generic.Inserted */\n",
       ".source .go { color: #888888 } /* Generic.Output */\n",
       ".source .gp { color: #000080; font-weight: bold } /* Generic.Prompt */\n",
       ".source .gs { font-weight: bold } /* Generic.Strong */\n",
       ".source .gu { color: #800080; font-weight: bold } /* Generic.Subheading */\n",
       ".source .gt { color: #0044DD } /* Generic.Traceback */\n",
       ".source .kc { color: #008000; font-weight: bold } /* Keyword.Constant */\n",
       ".source .kd { color: #008000; font-weight: bold } /* Keyword.Declaration */\n",
       ".source .kn { color: #008000; font-weight: bold } /* Keyword.Namespace */\n",
       ".source .kp { color: #008000 } /* Keyword.Pseudo */\n",
       ".source .kr { color: #008000; font-weight: bold } /* Keyword.Reserved */\n",
       ".source .kt { color: #B00040 } /* Keyword.Type */\n",
       ".source .m { color: #666666 } /* Literal.Number */\n",
       ".source .s { color: #BA2121 } /* Literal.String */\n",
       ".source .na { color: #7D9029 } /* Name.Attribute */\n",
       ".source .nb { color: #008000 } /* Name.Builtin */\n",
       ".source .nc { color: #0000FF; font-weight: bold } /* Name.Class */\n",
       ".source .no { color: #880000 } /* Name.Constant */\n",
       ".source .nd { color: #AA22FF } /* Name.Decorator */\n",
       ".source .ni { color: #999999; font-weight: bold } /* Name.Entity */\n",
       ".source .ne { color: #D2413A; font-weight: bold } /* Name.Exception */\n",
       ".source .nf { color: #0000FF } /* Name.Function */\n",
       ".source .nl { color: #A0A000 } /* Name.Label */\n",
       ".source .nn { color: #0000FF; font-weight: bold } /* Name.Namespace */\n",
       ".source .nt { color: #008000; font-weight: bold } /* Name.Tag */\n",
       ".source .nv { color: #19177C } /* Name.Variable */\n",
       ".source .ow { color: #AA22FF; font-weight: bold } /* Operator.Word */\n",
       ".source .w { color: #bbbbbb } /* Text.Whitespace */\n",
       ".source .mb { color: #666666 } /* Literal.Number.Bin */\n",
       ".source .mf { color: #666666 } /* Literal.Number.Float */\n",
       ".source .mh { color: #666666 } /* Literal.Number.Hex */\n",
       ".source .mi { color: #666666 } /* Literal.Number.Integer */\n",
       ".source .mo { color: #666666 } /* Literal.Number.Oct */\n",
       ".source .sa { color: #BA2121 } /* Literal.String.Affix */\n",
       ".source .sb { color: #BA2121 } /* Literal.String.Backtick */\n",
       ".source .sc { color: #BA2121 } /* Literal.String.Char */\n",
       ".source .dl { color: #BA2121 } /* Literal.String.Delimiter */\n",
       ".source .sd { color: #BA2121; font-style: italic } /* Literal.String.Doc */\n",
       ".source .s2 { color: #BA2121 } /* Literal.String.Double */\n",
       ".source .se { color: #BB6622; font-weight: bold } /* Literal.String.Escape */\n",
       ".source .sh { color: #BA2121 } /* Literal.String.Heredoc */\n",
       ".source .si { color: #BB6688; font-weight: bold } /* Literal.String.Interpol */\n",
       ".source .sx { color: #008000 } /* Literal.String.Other */\n",
       ".source .sr { color: #BB6688 } /* Literal.String.Regex */\n",
       ".source .s1 { color: #BA2121 } /* Literal.String.Single */\n",
       ".source .ss { color: #19177C } /* Literal.String.Symbol */\n",
       ".source .bp { color: #008000 } /* Name.Builtin.Pseudo */\n",
       ".source .fm { color: #0000FF } /* Name.Function.Magic */\n",
       ".source .vc { color: #19177C } /* Name.Variable.Class */\n",
       ".source .vg { color: #19177C } /* Name.Variable.Global */\n",
       ".source .vi { color: #19177C } /* Name.Variable.Instance */\n",
       ".source .vm { color: #19177C } /* Name.Variable.Magic */\n",
       ".source .il { color: #666666 } /* Literal.Number.Integer.Long */\n",
       "    </style>\n",
       "    <table class=\"sourcetable\"><tr><td class=\"linenos\"><div class=\"linenodiv\"><pre> 1\n",
       " 2\n",
       " 3\n",
       " 4\n",
       " 5\n",
       " 6\n",
       " 7\n",
       " 8\n",
       " 9\n",
       "10\n",
       "11\n",
       "12\n",
       "13\n",
       "14\n",
       "15\n",
       "16\n",
       "17\n",
       "18\n",
       "19\n",
       "20\n",
       "21\n",
       "22\n",
       "23\n",
       "24\n",
       "25\n",
       "26\n",
       "27\n",
       "28\n",
       "29\n",
       "30\n",
       "31\n",
       "32\n",
       "33\n",
       "34\n",
       "35\n",
       "36\n",
       "37\n",
       "38\n",
       "39\n",
       "40\n",
       "41\n",
       "42\n",
       "43\n",
       "44\n",
       "45\n",
       "46\n",
       "47\n",
       "48\n",
       "49\n",
       "50</pre></div></td><td class=\"code\"><div class=\"source\"><pre><span></span><span class=\"l l-Scalar l-Scalar-Plain\">name</span><span class=\"p p-Indicator\">:</span> <span class=\"l l-Scalar l-Scalar-Plain\">BaselineModel</span>\n",
       "\n",
       "<span class=\"l l-Scalar l-Scalar-Plain\">model_type</span><span class=\"p p-Indicator\">:</span> <span class=\"l l-Scalar l-Scalar-Plain\">dtcscc</span>\n",
       "\n",
       "<span class=\"l l-Scalar l-Scalar-Plain\">symbols</span><span class=\"p p-Indicator\">:</span>\n",
       "\n",
       "   <span class=\"l l-Scalar l-Scalar-Plain\">shocks</span><span class=\"p p-Indicator\">:</span> <span class=\"p p-Indicator\">[</span><span class=\"nv\">e_z</span><span class=\"p p-Indicator\">]</span>\n",
       "   <span class=\"l l-Scalar l-Scalar-Plain\">states</span><span class=\"p p-Indicator\">:</span> <span class=\"p p-Indicator\">[</span><span class=\"nv\">k</span><span class=\"p p-Indicator\">,</span> <span class=\"nv\">z</span><span class=\"p p-Indicator\">]</span>\n",
       "   <span class=\"l l-Scalar l-Scalar-Plain\">controls</span><span class=\"p p-Indicator\">:</span> <span class=\"p p-Indicator\">[</span><span class=\"nv\">i</span><span class=\"p p-Indicator\">,</span> <span class=\"nv\">l</span><span class=\"p p-Indicator\">]</span>\n",
       "   <span class=\"l l-Scalar l-Scalar-Plain\">parameters</span><span class=\"p p-Indicator\">:</span> <span class=\"p p-Indicator\">[</span><span class=\"nv\">alpha</span><span class=\"p p-Indicator\">,</span> <span class=\"nv\">beta</span><span class=\"p p-Indicator\">,</span> <span class=\"nv\">chi</span><span class=\"p p-Indicator\">,</span> <span class=\"nv\">delta</span><span class=\"p p-Indicator\">,</span> <span class=\"nv\">gamma</span><span class=\"p p-Indicator\">,</span> <span class=\"nv\">tau</span><span class=\"p p-Indicator\">,</span> <span class=\"nv\">theta</span><span class=\"p p-Indicator\">,</span> <span class=\"nv\">rho_z</span><span class=\"p p-Indicator\">,</span> <span class=\"nv\">sig_z</span><span class=\"p p-Indicator\">]</span>\n",
       "\n",
       "<span class=\"l l-Scalar l-Scalar-Plain\">definitions</span><span class=\"p p-Indicator\">:</span>\n",
       "    <span class=\"l l-Scalar l-Scalar-Plain\">y</span><span class=\"p p-Indicator\">:</span> <span class=\"l l-Scalar l-Scalar-Plain\">exp((1 - alpha)*z)*k^alpha*l^(1-alpha)</span>\n",
       "    <span class=\"l l-Scalar l-Scalar-Plain\">rk</span><span class=\"p p-Indicator\">:</span> <span class=\"l l-Scalar l-Scalar-Plain\">alpha*y/k</span>\n",
       "    <span class=\"l l-Scalar l-Scalar-Plain\">w</span><span class=\"p p-Indicator\">:</span> <span class=\"l l-Scalar l-Scalar-Plain\">(1-alpha)*y/l</span>\n",
       "    <span class=\"l l-Scalar l-Scalar-Plain\">T</span><span class=\"p p-Indicator\">:</span> <span class=\"l l-Scalar l-Scalar-Plain\">tau * (w*l + (rk - delta)*k)</span>\n",
       "    <span class=\"l l-Scalar l-Scalar-Plain\">c</span><span class=\"p p-Indicator\">:</span> <span class=\"l l-Scalar l-Scalar-Plain\">(1 - tau)*w*l + T - i</span>\n",
       "\n",
       "<span class=\"l l-Scalar l-Scalar-Plain\">equations</span><span class=\"p p-Indicator\">:</span>\n",
       "\n",
       "    <span class=\"l l-Scalar l-Scalar-Plain\">arbitrage</span><span class=\"p p-Indicator\">:</span>\n",
       "        <span class=\"p p-Indicator\">-</span> <span class=\"l l-Scalar l-Scalar-Plain\">1 - beta*(c/c(1))^(gamma)*((rk(1) - delta)*(1 - tau) + 1)</span>\n",
       "        <span class=\"p p-Indicator\">-</span> <span class=\"l l-Scalar l-Scalar-Plain\">chi*l^theta - (1 - tau)*w*c^(-gamma)    | 0.0 &lt;= l &lt;= inf</span>\n",
       "\n",
       "    <span class=\"l l-Scalar l-Scalar-Plain\">transition</span><span class=\"p p-Indicator\">:</span>\n",
       "        <span class=\"p p-Indicator\">-</span> <span class=\"l l-Scalar l-Scalar-Plain\">k = (1-delta)*k(-1) + i(-1)</span>\n",
       "        <span class=\"p p-Indicator\">-</span> <span class=\"l l-Scalar l-Scalar-Plain\">z = rho_z*z(-1) + e_z</span>\n",
       "\n",
       "<span class=\"l l-Scalar l-Scalar-Plain\">calibration</span><span class=\"p p-Indicator\">:</span>\n",
       "\n",
       "    <span class=\"c1\"># parameters</span>\n",
       "    <span class=\"l l-Scalar l-Scalar-Plain\">alpha</span> <span class=\"p p-Indicator\">:</span> <span class=\"l l-Scalar l-Scalar-Plain\">0.4</span>\n",
       "    <span class=\"l l-Scalar l-Scalar-Plain\">beta</span> <span class=\"p p-Indicator\">:</span> <span class=\"l l-Scalar l-Scalar-Plain\">0.98</span>\n",
       "    <span class=\"l l-Scalar l-Scalar-Plain\">chi</span> <span class=\"p p-Indicator\">:</span> <span class=\"l l-Scalar l-Scalar-Plain\">0.5</span>\n",
       "    <span class=\"l l-Scalar l-Scalar-Plain\">delta</span> <span class=\"p p-Indicator\">:</span> <span class=\"l l-Scalar l-Scalar-Plain\">0.10</span>\n",
       "    <span class=\"l l-Scalar l-Scalar-Plain\">gamma</span> <span class=\"p p-Indicator\">:</span> <span class=\"l l-Scalar l-Scalar-Plain\">2.50</span>\n",
       "    <span class=\"l l-Scalar l-Scalar-Plain\">tau</span> <span class=\"p p-Indicator\">:</span> <span class=\"l l-Scalar l-Scalar-Plain\">0.05</span>\n",
       "    <span class=\"l l-Scalar l-Scalar-Plain\">theta</span> <span class=\"p p-Indicator\">:</span> <span class=\"l l-Scalar l-Scalar-Plain\">1.50</span>\n",
       "    <span class=\"l l-Scalar l-Scalar-Plain\">rho_z</span> <span class=\"p p-Indicator\">:</span> <span class=\"l l-Scalar l-Scalar-Plain\">0.90</span>\n",
       "    <span class=\"l l-Scalar l-Scalar-Plain\">sig_z</span> <span class=\"p p-Indicator\">:</span> <span class=\"l l-Scalar l-Scalar-Plain\">0.02</span>\n",
       "\n",
       "    <span class=\"c1\"># Steady state</span>\n",
       "    <span class=\"l l-Scalar l-Scalar-Plain\">e_z</span><span class=\"p p-Indicator\">:</span> <span class=\"l l-Scalar l-Scalar-Plain\">0</span>\n",
       "    <span class=\"l l-Scalar l-Scalar-Plain\">z</span><span class=\"p p-Indicator\">:</span> <span class=\"l l-Scalar l-Scalar-Plain\">0</span>\n",
       "    <span class=\"l l-Scalar l-Scalar-Plain\">k</span><span class=\"p p-Indicator\">:</span> <span class=\"l l-Scalar l-Scalar-Plain\">0.75</span>\n",
       "    <span class=\"l l-Scalar l-Scalar-Plain\">l</span><span class=\"p p-Indicator\">:</span> <span class=\"l l-Scalar l-Scalar-Plain\">0.5</span>\n",
       "    <span class=\"l l-Scalar l-Scalar-Plain\">i</span><span class=\"p p-Indicator\">:</span> <span class=\"l l-Scalar l-Scalar-Plain\">0.10</span>\n",
       "\n",
       "<span class=\"l l-Scalar l-Scalar-Plain\">exogenous</span><span class=\"p p-Indicator\">:</span> <span class=\"kt\">!Normal</span>\n",
       "    <span class=\"l l-Scalar l-Scalar-Plain\">Sigma</span><span class=\"p p-Indicator\">:</span> <span class=\"p p-Indicator\">[[</span><span class=\"nv\">sig_z**2</span><span class=\"p p-Indicator\">]]</span>\n",
       "</pre></div>\n",
       "</td></tr></table>\n",
       "    "
      ],
      "text/plain": [
       "<IPython.core.display.HTML object>"
      ]
     },
     "execution_count": 2,
     "metadata": {},
     "output_type": "execute_result"
    }
   ],
   "source": [
    "fname = \"baseline.yaml\"\n",
    "dolo.pcat(fname)"
   ]
  },
  {
   "cell_type": "markdown",
   "metadata": {},
   "source": [
    "## Define Model Type"
   ]
  },
  {
   "cell_type": "code",
   "execution_count": 8,
   "metadata": {},
   "outputs": [
    {
     "name": "stdout",
     "output_type": "stream",
     "text": [
      "\u001b[31merror\u001b[0m: 1, 1  : Linter Error: Uncaught Exception.\n"
     ]
    },
    {
     "data": {
      "text/html": [
       "\n",
       "        <table>\n",
       "         <td><b>Model</b></td>\n",
       "        <tr>\n",
       "        <td>name</td>\n",
       "        <td>BaselineModel</td>\n",
       "        </tr>\n",
       "        <tr>\n",
       "        <td>type</td>\n",
       "        <td>dtcc</td>\n",
       "        </tr>\n",
       "        <tr>\n",
       "        <td>filename</td>\n",
       "        <td>baseline.yaml</td>\n",
       "        </tr>\n",
       "        </table><table><tr><td><b>Type</b></td><td><b>Equation</b></td><td><b>Residual</b></td></tr>\n",
       "<tr><td>arbitrage</td><td>$1 - \\beta \\; \\left(\\frac{c_{t}}{c_{t+1}}\\right)^{\\gamma} \\; \\left(\\left(rk_{t+1} - \\delta\\right) \\; \\left(1 - \\tau\\right) + 1\\right)$</td><td><span style=\"color: red;\">-0.1789</span></td></tr>\n",
       "<tr><td></td><td>$\\chi \\; l_{t}^{\\theta} - \\left(1 - \\tau\\right) \\; w_{t} \\; c_{t}^{- \\gamma}$</td><td><span style=\"color: red;\">-19.1162</span></td></tr><tr><td>transition</td><td>$k_{t} = \\left(1 - \\delta\\right) \\; k_{t-1} + i_{t-1}$</td><td><span style=\"color: red;\">0.0250</span></td></tr>\n",
       "<tr><td></td><td>$z_{t} = \\rho_{z} \\; z_{t-1} + e_{z,t}$</td><td>0.000</td></tr><tr><td>controls_lb</td><td>$- inf$</td><td></td></tr>\n",
       "<tr><td></td><td>$0.0$</td><td></td></tr><tr><td>controls_ub</td><td>$inf$</td><td></td></tr>\n",
       "<tr><td></td><td>$inf$</td><td></td></tr><tr><td>definitions</td><td>$y_{t} = \\operatorname{exp}\\left(\\left(1 - \\alpha\\right) \\; z_{t}\\right) \\; k_{t}^{\\alpha} \\; l_{t}^{1 - \\alpha}$</td><td></td></tr>\n",
       "<tr><td></td><td>$rk_{t} = \\frac{\\alpha \\; y_{t}}{k_{t}}$</td><td></td></tr>\n",
       "<tr><td></td><td>$w_{t} = \\frac{\\left(1 - \\alpha\\right) \\; y_{t}}{l_{t}}$</td><td></td></tr>\n",
       "<tr><td></td><td>$T_{t} = \\tau \\; \\left(w_{t} \\; l_{t} + \\left(rk_{t} - \\delta\\right) \\; k_{t}\\right)$</td><td></td></tr>\n",
       "<tr><td></td><td>$c_{t} = \\left(1 - \\tau\\right) \\; w_{t} \\; l_{t} + T_{t} - i_{t}$</td><td></td></tr></table>"
      ],
      "text/plain": [
       "\n",
       "        Model:\n",
       "        ------\n",
       "        name: \"BaselineModel\"\n",
       "        type: \"dtcc\"\n",
       "        file: \"baseline.yaml\n",
       "\n",
       "Equations:\n",
       "----------\n",
       "\n",
       "transition\n",
       " 1  : \u001b[31m0.0250\u001b[0m : k(0) == ((1) - (delta)) * (k(-(1))) + i(-(1))\n",
       " 2  : 0.0000 : z(0) == (rho_z) * (z(-(1))) + e_z(0)\n",
       "\n",
       "arbitrage\n",
       " 1  : \u001b[31m-0.1789\u001b[0m : (1) - (((beta) * (((c(0)) / (c(1))) ** (gamma))) * (((rk(1)) - (delta)) * ((1) - (tau)) + 1))\n",
       " 2  : \u001b[31m-19.1162\u001b[0m : ((chi) * ((l(0)) ** (theta))) - ((((1) - (tau)) * (w(0))) * ((c(0)) ** (-(gamma))))\n",
       "\n",
       "definitions\n",
       " 1  : y = exp((1 - alpha)*z)*k**alpha*l**(1-alpha)\n",
       " 2  : rk = alpha*y/k\n",
       " 3  : w = (1-alpha)*y/l\n",
       " 4  : T = tau * (w*l + (rk - delta)*k)\n",
       " 5  : c = (1 - tau)*w*l + T - i\n"
      ]
     },
     "execution_count": 8,
     "metadata": {},
     "output_type": "execute_result"
    }
   ],
   "source": [
    "mod = dolo.yaml_import(fname)\n",
    "mod"
   ]
  },
  {
   "cell_type": "markdown",
   "metadata": {},
   "source": [
    "## Find Steady State\n",
    "\n",
    "We had to put in a (very bad) guess of steady state when we initialized file, but now we can solve for the deterministic equilibrium and update this guess."
   ]
  },
  {
   "cell_type": "code",
   "execution_count": 20,
   "metadata": {},
   "outputs": [],
   "source": [
    "mod_ss = dolo.algos.steady_state.find_steady_state(mod)\n",
    "\n",
    "kbar, zbar = mod_ss[\"states\"]\n",
    "ibar, lbar = mod_ss[\"controls\"]"
   ]
  },
  {
   "cell_type": "code",
   "execution_count": 22,
   "metadata": {},
   "outputs": [
    {
     "data": {
      "text/html": [
       "\n",
       "        <table>\n",
       "         <td><b>Model</b></td>\n",
       "        <tr>\n",
       "        <td>name</td>\n",
       "        <td>BaselineModel</td>\n",
       "        </tr>\n",
       "        <tr>\n",
       "        <td>type</td>\n",
       "        <td>dtcc</td>\n",
       "        </tr>\n",
       "        <tr>\n",
       "        <td>filename</td>\n",
       "        <td>baseline.yaml</td>\n",
       "        </tr>\n",
       "        </table><table><tr><td><b>Type</b></td><td><b>Equation</b></td><td><b>Residual</b></td></tr>\n",
       "<tr><td>arbitrage</td><td>$1 - \\beta \\; \\left(\\frac{c_{t}}{c_{t+1}}\\right)^{\\gamma} \\; \\left(\\left(rk_{t+1} - \\delta\\right) \\; \\left(1 - \\tau\\right) + 1\\right)$</td><td>0.000</td></tr>\n",
       "<tr><td></td><td>$\\chi \\; l_{t}^{\\theta} - \\left(1 - \\tau\\right) \\; w_{t} \\; c_{t}^{- \\gamma}$</td><td>0.000</td></tr><tr><td>transition</td><td>$k_{t} = \\left(1 - \\delta\\right) \\; k_{t-1} + i_{t-1}$</td><td>0.000</td></tr>\n",
       "<tr><td></td><td>$z_{t} = \\rho_{z} \\; z_{t-1} + e_{z,t}$</td><td>-0.000</td></tr><tr><td>controls_lb</td><td>$- inf$</td><td></td></tr>\n",
       "<tr><td></td><td>$0.0$</td><td></td></tr><tr><td>controls_ub</td><td>$inf$</td><td></td></tr>\n",
       "<tr><td></td><td>$inf$</td><td></td></tr><tr><td>definitions</td><td>$y_{t} = \\operatorname{exp}\\left(\\left(1 - \\alpha\\right) \\; z_{t}\\right) \\; k_{t}^{\\alpha} \\; l_{t}^{1 - \\alpha}$</td><td></td></tr>\n",
       "<tr><td></td><td>$rk_{t} = \\frac{\\alpha \\; y_{t}}{k_{t}}$</td><td></td></tr>\n",
       "<tr><td></td><td>$w_{t} = \\frac{\\left(1 - \\alpha\\right) \\; y_{t}}{l_{t}}$</td><td></td></tr>\n",
       "<tr><td></td><td>$T_{t} = \\tau \\; \\left(w_{t} \\; l_{t} + \\left(rk_{t} - \\delta\\right) \\; k_{t}\\right)$</td><td></td></tr>\n",
       "<tr><td></td><td>$c_{t} = \\left(1 - \\tau\\right) \\; w_{t} \\; l_{t} + T_{t} - i_{t}$</td><td></td></tr></table>"
      ],
      "text/plain": [
       "\n",
       "        Model:\n",
       "        ------\n",
       "        name: \"BaselineModel\"\n",
       "        type: \"dtcc\"\n",
       "        file: \"baseline.yaml\n",
       "\n",
       "Equations:\n",
       "----------\n",
       "\n",
       "transition\n",
       " 1  : 0.0000 : k(0) == ((1) - (delta)) * (k(-(1))) + i(-(1))\n",
       " 2  : 0.0000 : z(0) == (rho_z) * (z(-(1))) + e_z(0)\n",
       "\n",
       "arbitrage\n",
       " 1  : 0.0000 : (1) - (((beta) * (((c(0)) / (c(1))) ** (gamma))) * (((rk(1)) - (delta)) * ((1) - (tau)) + 1))\n",
       " 2  : 0.0000 : ((chi) * ((l(0)) ** (theta))) - ((((1) - (tau)) * (w(0))) * ((c(0)) ** (-(gamma))))\n",
       "\n",
       "definitions\n",
       " 1  : y = exp((1 - alpha)*z)*k**alpha*l**(1-alpha)\n",
       " 2  : rk = alpha*y/k\n",
       " 3  : w = (1-alpha)*y/l\n",
       " 4  : T = tau * (w*l + (rk - delta)*k)\n",
       " 5  : c = (1 - tau)*w*l + T - i\n"
      ]
     },
     "execution_count": 22,
     "metadata": {},
     "output_type": "execute_result"
    }
   ],
   "source": [
    "mod.set_calibration(k=kbar, z=zbar, i=ibar, l=lbar)\n",
    "mod"
   ]
  },
  {
   "cell_type": "markdown",
   "metadata": {},
   "source": [
    "Notice the residual on our equations is ~0! Success!"
   ]
  },
  {
   "cell_type": "markdown",
   "metadata": {},
   "source": [
    "## Decision Rules"
   ]
  },
  {
   "cell_type": "code",
   "execution_count": 70,
   "metadata": {},
   "outputs": [],
   "source": [
    "dr_perturb = dolo.perturbate(mod, solve_steady_state=True)"
   ]
  },
  {
   "cell_type": "code",
   "execution_count": 103,
   "metadata": {},
   "outputs": [],
   "source": [
    "simuls = dolo.simulate(mod, dr_pertrub, N=5, T=150)\n",
    "\n",
    "ksim = simuls[:, 0, 1]\n",
    "zsim = simuls[:, 0, 2]\n",
    "isim = simuls[:, 0, 3]\n",
    "lsim = simuls[:, 0, 4]\n",
    "ysim = simuls[:, 0, 5]"
   ]
  },
  {
   "cell_type": "code",
   "execution_count": 104,
   "metadata": {},
   "outputs": [
    {
     "data": {
      "image/png": "[encoded data removed]",
      "text/plain": [
       "<matplotlib.figure.Figure at 0x7f67b760aeb8>"
      ]
     },
     "metadata": {},
     "output_type": "display_data"
    }
   ],
   "source": [
    "fig, ax = plt.subplots(2, 3)\n",
    "\n",
    "ax[0, 0].plot(simuls[:, 0, 0])\n",
    "ax[0, 0].set_title(\"e_z\")\n",
    "\n",
    "ax[0, 1].plot(simuls[:, 0, 2])\n",
    "ax[0, 1].set_title(\"z\")\n",
    "\n",
    "ax[0, 2].plot(simuls[:, 0, 8])\n",
    "ax[0, 2].set_title(\"T\")\n",
    "\n",
    "ax[1, 0].plot(simuls[:, 0, 1])\n",
    "ax[1, 0].set_title(\"k\")\n",
    "\n",
    "ax[1, 1].plot(simuls[:, 0, 4])\n",
    "ax[1, 1].set_title(\"l\")\n",
    "\n",
    "ax[1, 2].plot(simuls[:, 0, 9])\n",
    "ax[1, 2].set_title(\"c\")\n",
    "\n",
    "fig.tight_layout()"
   ]
  },
  {
   "cell_type": "code",
   "execution_count": 106,
   "metadata": {},
   "outputs": [
    {
     "data": {
      "image/png": "[encoded data removed]",
      "text/plain": [
       "<matplotlib.figure.Figure at 0x7f67b73c4630>"
      ]
     },
     "metadata": {},
     "output_type": "display_data"
    }
   ],
   "source": [
    "irf = dolo.response(mod, dr_perturb, 'e_z', T=50)\n",
    "\n",
    "fig, ax = plt.subplots(2, 3)\n",
    "\n",
    "ax[0, 0].plot(irf[:, 0])\n",
    "ax[0, 0].set_title(\"e_z\")\n",
    "\n",
    "ax[0, 1].plot(irf[:, 2])\n",
    "ax[0, 1].set_title(\"z\")\n",
    "\n",
    "ax[0, 2].plot(irf[:, 8])\n",
    "ax[0, 2].set_title(\"T\")\n",
    "\n",
    "ax[1, 0].plot(irf[:, 1])\n",
    "ax[1, 0].set_title(\"k\")\n",
    "\n",
    "ax[1, 1].plot(irf[:, 4])\n",
    "ax[1, 1].set_title(\"l\")\n",
    "\n",
    "ax[1, 2].plot(irf[:, 9])\n",
    "ax[1, 2].set_title(\"c\")\n",
    "\n",
    "fig.tight_layout()"
   ]
  }
 ],
 "metadata": {
  "kernelspec": {
   "display_name": "Python 3",
   "language": "python",
   "name": "python3"
  },
  "language_info": {
   "codemirror_mode": {
    "name": "ipython",
    "version": 3
   },
   "file_extension": ".py",
   "mimetype": "text/x-python",
   "name": "python",
   "nbconvert_exporter": "python",
   "pygments_lexer": "ipython3",
   "version": "3.6.4"
  }
 },
 "nbformat": 4,
 "nbformat_minor": 2
}
