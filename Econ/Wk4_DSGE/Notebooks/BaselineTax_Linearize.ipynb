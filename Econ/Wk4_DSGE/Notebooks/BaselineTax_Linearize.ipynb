{
 "cells": [
  {
   "cell_type": "markdown",
   "metadata": {},
   "source": [
    "# Baseline Tax Model\n",
    "\n",
    "This shows steps to numerically linearize the \"Baseline\" model we have been using in class"
   ]
  },
  {
   "cell_type": "code",
   "execution_count": 44,
   "metadata": {},
   "outputs": [],
   "source": [
    "import numpy as np\n",
    "import scipy.optimize as opt\n",
    "\n",
    "from collections import namedtuple"
   ]
  },
  {
   "cell_type": "markdown",
   "metadata": {},
   "source": [
    "Will store parameters of model in a `namedtuple`"
   ]
  },
  {
   "cell_type": "code",
   "execution_count": 10,
   "metadata": {},
   "outputs": [],
   "source": [
    "params = [\"a\", \"alpha\", \"beta\", \"delta\", \"gamma\", \"rho\", \"sigma\", \"tau\", \"xi\"]\n",
    "BaselineModel = namedtuple(\"BaselineModel\", params)"
   ]
  },
  {
   "cell_type": "code",
   "execution_count": 11,
   "metadata": {},
   "outputs": [],
   "source": [
    "m = BaselineModel(0.50, 0.40, 0.98, 0.10, 2.50, 0.90, 0.02, 0.05, 1.5)"
   ]
  },
  {
   "cell_type": "markdown",
   "metadata": {},
   "source": [
    "Notice, `namedtuple`s allow you to identify parameters by name which helps prevent errors"
   ]
  },
  {
   "cell_type": "code",
   "execution_count": 12,
   "metadata": {},
   "outputs": [
    {
     "data": {
      "text/plain": [
       "(0.4, 0.98)"
      ]
     },
     "execution_count": 12,
     "metadata": {},
     "output_type": "execute_result"
    }
   ],
   "source": [
    "m.alpha, m.beta"
   ]
  },
  {
   "cell_type": "markdown",
   "metadata": {},
   "source": [
    "## Utility and Production Functions\n",
    "\n",
    "DRY!!!\n",
    "\n",
    "\\begin{align*}\n",
    "  u(c, l) &= \\frac{c^{1 - \\gamma} - 1}{1 - \\gamma} + a \\frac{(1 - l)^{1 - \\xi} - 1}{1 - \\xi} \\\\\n",
    "  f(k, l, z) &= k^{\\alpha} (l \\exp(z))^{1 - \\alpha}\n",
    "\\end{align*}"
   ]
  },
  {
   "cell_type": "code",
   "execution_count": 68,
   "metadata": {},
   "outputs": [],
   "source": [
    "def u(m, c, l):\n",
    "    uc = (c**(1.0 - m.gamma) - 1.0) / (1.0 - m.gamma)\n",
    "    ul = m.a * ((1.0 - l)**(1.0 - m.xi) - 1.0) / (1.0 - m.xi)\n",
    "    return uc + ul\n",
    "\n",
    "def du_dc(m, c, l):\n",
    "    return c**(-m.gamma)\n",
    "\n",
    "def du_dl(m, c, l):\n",
    "    return - m.a * (1.0 - l)**(-m.xi)\n",
    "\n",
    "def f(m, k, l, z):\n",
    "    return k**m.alpha * (l * np.exp(z))**(1.0 - m.alpha)\n",
    "\n",
    "def df_dk(m, k, l, z):\n",
    "    return m.alpha * (l/k * np.exp(z))**(1.0 - m.alpha)\n",
    "\n",
    "def df_dl(m, k, l, z):\n",
    "    return (1.0 - m.alpha) * np.exp(z)**(1.0 - m.alpha) * (k / l)**m.alpha\n"
   ]
  },
  {
   "cell_type": "markdown",
   "metadata": {},
   "source": [
    "## Characteristic Equations\n",
    "\n",
    "DRY!!!\n",
    "\n",
    "\\begin{align*}\n",
    "  c_t &= (1 - \\tau) (w_t l_t + (r_t - \\delta) k_t) + T_t - k_{t+1} \\\\\n",
    "  u_c(c_t, l_t) &= \\beta E \\left[ u_c(c_{t+1}, l_{t+1}) (r_{t+1} - \\delta) (1 - \\tau) + 1) \\right] \\\\\n",
    "  -u_l(c_t, l_t) &= u_c(c_t, l_t) w_t (1 - \\tau) \\\\\n",
    "  r_t &= f_K(k_t, l_t, z_t) \\\\\n",
    "  w_t &= f_L(k_t, l_t, z_t) \\\\\n",
    "  T_t &= \\tau [w_t l_t + (r - \\delta) k_t] \\\\\n",
    "  z_{t+1} &= \\rho z_t + \\sigma \\varepsilon_{t+1}\n",
    "\\end{align*}"
   ]
  },
  {
   "cell_type": "code",
   "execution_count": null,
   "metadata": {},
   "outputs": [],
   "source": [
    "def Definitions(m, ktp1, kt, lt, zt):\n",
    "    wt = df_dl(m, kt, lt, zt)\n",
    "    rt = df_dk(m, kt, lt, zt)\n",
    "    Tt = m.tau * (wt*lt + (rt - m.delta)*kt)\n",
    "    ct = (1 - m.tau) * (wt*lt + (rt - m.delta)*kt) + kt + Tt - ktp1\n",
    "\n",
    "    ct = max(ct, 1e-8)\n",
    "\n",
    "    return ct, rt, Tt, wt\n",
    "\n",
    "\n",
    "def CharacteristicEquations(m, ktp2, ltp1, ktp1, lt, kt, ltm1, ztp1, zt):\n",
    "    ct, rt, Tt, wt = Definitions(m, ktp1, kt, lt, zt)\n",
    "    ctp1, rtp1, Ttp1, wtp1 = Definitions(m, ktp2, ktp1, ltp1, ztp1)\n",
    "    rr_tp1 = (rtp1 - m.delta)*(1 - m.tau) + 1.0\n",
    "\n",
    "    intertemporal_ee = du_dc(m, ct, lt) - m.beta*du_dc(m, ctp1, ltp1)*rr_tp1\n",
    "    intratemporal_ee = du_dl(m, ct, lt) + du_dc(m, ct, lt)*wt*(1.0 - m.tau)\n",
    "\n",
    "    return np.array([intertemporal_ee, intratemporal_ee])"
   ]
  },
  {
   "cell_type": "markdown",
   "metadata": {},
   "source": [
    "## Steady state\n",
    "\n",
    "To find steady state, find $\\bar{k}$ and $\\bar{l}$ such that $\\Gamma(\\bar{X}, \\bar{Z}) = 0$"
   ]
  },
  {
   "cell_type": "code",
   "execution_count": 79,
   "metadata": {},
   "outputs": [],
   "source": [
    "def solve_ss(m):\n",
    "    solve_me = lambda x: CharacteristicEquations(m, x[0], x[1], x[0], x[1], x[0], x[1], 0.0, 0.0)\n",
    "    sol = opt.root(solve_me, np.array([0.5, 0.85]))\n",
    "\n",
    "    return sol.x"
   ]
  },
  {
   "cell_type": "code",
   "execution_count": 81,
   "metadata": {},
   "outputs": [],
   "source": [
    "kbar, lbar = solve_ss(m)\n",
    "\n",
    "cbar, rbar, Tbar, wbar = Definitions(m, kbar, kbar, lbar, 0.0)"
   ]
  },
  {
   "cell_type": "markdown",
   "metadata": {},
   "source": [
    "## Derivatives"
   ]
  },
  {
   "cell_type": "code",
   "execution_count": 90,
   "metadata": {},
   "outputs": [
    {
     "data": {
      "text/plain": [
       "array([ 7.26307903e-13, -2.11608508e-13])"
      ]
     },
     "execution_count": 90,
     "metadata": {},
     "output_type": "execute_result"
    }
   ],
   "source": [
    "CharacteristicEquations(m, *[kbar, lbar, kbar, lbar, kbar, lbar, 0.0, 0.0])"
   ]
  },
  {
   "cell_type": "code",
   "execution_count": 97,
   "metadata": {},
   "outputs": [],
   "source": [
    "def derivative(f, x, xtilde):\n",
    "    return (f(x) - f(xtilde)) / np.sum(x - xtilde)\n",
    "\n",
    "\n",
    "def linearize(m, kbar, lbar, eps=1e-6):\n",
    "    # Compute ss gamma\n",
    "    x = np.array([kbar, lbar, kbar, lbar, kbar, lbar, 0.0, 0.0])\n",
    "    Gamma_ss = CharacteristicEquations(m, kbar, lbar, kbar, lbar, kbar, lbar, 0.0, 0.0)\n",
    "\n",
    "    # Allocate space for derivative matrix\n",
    "    neq = len(Gamma_ss)\n",
    "    Dmat = np.empty((neq, 8))\n",
    "\n",
    "    CEsplat = lambda x: CharacteristicEquations(m, *list(x))\n",
    "    for i in range(8):\n",
    "        xtilde = np.array([kbar, lbar, kbar, lbar, kbar, lbar, 0.0, 0.0])\n",
    "        xtilde[i] += eps\n",
    "        Dmat[:, i] = derivative(CEsplat, x, xtilde)\n",
    "\n",
    "    F = Dmat[:, :2]\n",
    "    G = Dmat[:, 2:4]\n",
    "    H = Dmat[:, 4:6]\n",
    "    L = Dmat[:, 6]\n",
    "    M = Dmat[:, 7]\n",
    "\n",
    "    return F, G, H, L, M\n"
   ]
  },
  {
   "cell_type": "code",
   "execution_count": 99,
   "metadata": {},
   "outputs": [],
   "source": [
    "F, G, H, L, M = linearize(m, kbar, lbar)\n"
   ]
  },
  {
   "cell_type": "code",
   "execution_count": 100,
   "metadata": {},
   "outputs": [
    {
     "data": {
      "text/plain": [
       "array([[-4.22623769,  5.44191867],\n",
       "       [-0.        , -0.        ]])"
      ]
     },
     "execution_count": 100,
     "metadata": {},
     "output_type": "execute_result"
    }
   ],
   "source": [
    "F"
   ]
  },
  {
   "cell_type": "code",
   "execution_count": 103,
   "metadata": {},
   "outputs": [
    {
     "data": {
      "text/plain": [
       "array([[  8.5666152 ,  -5.61221554],\n",
       "       [  5.33163184, -14.89888287]])"
      ]
     },
     "execution_count": 103,
     "metadata": {},
     "output_type": "execute_result"
    }
   ],
   "source": [
    "G"
   ]
  },
  {
   "cell_type": "code",
   "execution_count": 104,
   "metadata": {},
   "outputs": [
    {
     "data": {
      "text/plain": [
       "array([[-4.31700912, -0.        ],\n",
       "       [-5.27237248, -0.        ]])"
      ]
     },
     "execution_count": 104,
     "metadata": {},
     "output_type": "execute_result"
    }
   ],
   "source": [
    "H"
   ]
  },
  {
   "cell_type": "code",
   "execution_count": 105,
   "metadata": {},
   "outputs": [
    {
     "data": {
      "text/plain": [
       "array([ 3.1551835, -0.       ])"
      ]
     },
     "execution_count": 105,
     "metadata": {},
     "output_type": "execute_result"
    }
   ],
   "source": [
    "L"
   ]
  },
  {
   "cell_type": "code",
   "execution_count": 106,
   "metadata": {},
   "outputs": [
    {
     "data": {
      "text/plain": [
       "array([-3.25392039, -3.00365571])"
      ]
     },
     "execution_count": 106,
     "metadata": {},
     "output_type": "execute_result"
    }
   ],
   "source": [
    "M"
   ]
  }
 ],
 "metadata": {
  "kernelspec": {
   "display_name": "Python 3",
   "language": "python",
   "name": "python3"
  },
  "language_info": {
   "codemirror_mode": {
    "name": "ipython",
    "version": 3
   },
   "file_extension": ".py",
   "mimetype": "text/x-python",
   "name": "python",
   "nbconvert_exporter": "python",
   "pygments_lexer": "ipython3",
   "version": "3.6.4"
  }
 },
 "nbformat": 4,
 "nbformat_minor": 2
}
