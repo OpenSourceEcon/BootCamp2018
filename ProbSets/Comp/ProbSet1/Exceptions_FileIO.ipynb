{
 "cells": [
  {
   "cell_type": "markdown",
   "metadata": {},
   "source": [
    "# Exceptions and File I/O Exercise\n",
    "\n",
    "### Suleyman Gozen\n",
    " \n",
    " I thank Peiyao Sun and Yung-Hsu Tsui for their valuable comments."
   ]
  },
  {
   "cell_type": "code",
   "execution_count": null,
   "metadata": {
    "collapsed": true
   },
   "outputs": [],
   "source": [
    "\"\"\"\n",
    "Problem 1\n",
    "\"\"\"\n",
    "\n",
    "def arithmagic():\n",
    "    step_1 = input(\"Enter a 3-digit number where the first and last \"\n",
    "                                           \"digits differ by 2 or more: \")\n",
    "    \n",
    "    if len(step_1) != 3:\n",
    "        raise ValueError(\"You can only enter a 3-digit number.\")\n",
    "    \n",
    "    if int(step_1[2]) - int(step_1[0]) < 2:\n",
    "        raise ValueError(\"The first and last digits should differ by more than 2\")\n",
    "    \n",
    "    step_2 = input(\"Enter the reverse of the first number, obtained \"\n",
    "                                              \"by reading it backwards: \")\n",
    "    \n",
    "    if step_1 != step_2[::-1]:\n",
    "        raise ValueError(\"The second number must be the reverse of the first.\")\n",
    "    \n",
    "    step_3 = input(\"Enter the positive difference of these numbers: \")\n",
    "    \n",
    "    if int(step_2) - int(step_1) != int(step_3):\n",
    "        raise ValueError(\"The third number entered is not the difference between the second and the first number.\")\n",
    "        \n",
    "    step_4 = input(\"Enter the reverse of the previous result: \")\n",
    "    \n",
    "    if step_3 != step_4[::-1]:\n",
    "        raise ValueError(\"The fourth number must be the reverse of the third.\") \n",
    "    \n",
    "    print (str(step_3) + \" + \" + str(step_4) + \" = 1089 (ta-da!)\")\n",
    "    \n",
    "arithmagic()"
   ]
  },
  {
   "cell_type": "code",
   "execution_count": null,
   "metadata": {
    "collapsed": true
   },
   "outputs": [],
   "source": [
    "\"\"\"\n",
    "Problem 2\n",
    "\"\"\"\n",
    "\n",
    "from random import choice\n",
    "\n",
    "def random_walk(max_iters=1e12):\n",
    "    walk = 0\n",
    "    direction = [1, -1]\n",
    "    \n",
    "    try:\n",
    "        for i in range(int(max_iters)):\n",
    "            walk += choice(direction)\n",
    "    except KeyboardInterrupt as e:\n",
    "        print(\"Process interrupted at iteration \" + str(i))\n",
    "    else:\n",
    "        print(\"Process completed.\") \n",
    "    finally:\n",
    "        return walk\n",
    "\n",
    "random_walk()"
   ]
  },
  {
   "cell_type": "code",
   "execution_count": null,
   "metadata": {
    "collapsed": true
   },
   "outputs": [],
   "source": [
    "\"\"\"\n",
    "Problem 3\n",
    "\"\"\"\n",
    "\n",
    "import ContentFilter as cf\n",
    "cf0 = cf.ContentFilter(\"hello_world.txt\")\n",
    "cf1 = cf.ContentFilter(\"not-a-file.txt\")\n",
    "print(cf0.filename)\n",
    "print(cf0.content)\n",
    "\n"
   ]
  },
  {
   "cell_type": "code",
   "execution_count": null,
   "metadata": {
    "collapsed": true
   },
   "outputs": [],
   "source": [
    "\"\"\"\n",
    "Problem 4\n",
    "\"\"\"\n",
    "import ContentFilter as cf\n",
    "a = cf.ContentFilter(\"uniform.txt\")\n",
    "print(a.content)\n",
    "print()\n",
    "a.uniform(\"uniform2.txt\")\n",
    "a.uniform(\"uniform2.txt\", mode = 'a', case = 'lower')\n",
    "aa = cf.ContentFilter(\"uniform2.txt\")\n",
    "print(aa.content)\n",
    "\n",
    "a.reverse(\"reverse.txt\", unit = 'word')\n",
    "a.reverse(\"reverse.txt\", mode = 'a', unit = 'line')\n",
    "b = cf.ContentFilter(\"reverse.txt\")\n",
    "print(b.content)\n",
    "\n",
    "a.transpose(\"transpose.txt\")\n",
    "c = cf.ContentFilter(\"transpose.txt\")\n",
    "print(c.content)\n",
    "\n"
   ]
  }
 ],
 "metadata": {
  "kernelspec": {
   "display_name": "Python 3",
   "language": "python",
   "name": "python3"
  },
  "language_info": {
   "codemirror_mode": {
    "name": "ipython",
    "version": 3
   },
   "file_extension": ".py",
   "mimetype": "text/x-python",
   "name": "python",
   "nbconvert_exporter": "python",
   "pygments_lexer": "ipython3",
   "version": "3.6.3"
  }
 },
 "nbformat": 4,
 "nbformat_minor": 2
}
