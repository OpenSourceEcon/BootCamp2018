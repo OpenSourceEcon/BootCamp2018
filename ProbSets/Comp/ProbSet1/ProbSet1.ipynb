{
 "cells": [
  {
   "cell_type": "code",
   "execution_count": 4,
   "metadata": {},
   "outputs": [
    {
     "name": "stdout",
     "output_type": "stream",
     "text": [
      "[[ 37  14 -32 -10]\n",
      " [-54  -7  58  65]]\n"
     ]
    }
   ],
   "source": [
    "#Problem Set 1.1\n",
    "import numpy as np\n",
    "A = np.array([[3,-1,4],[1,5,-9]])\n",
    "B = np.array([[2,6,-5,3],[5,-8,9,7],[9,-3,-2,-3]])\n",
    "AB=A@B\n",
    "print(AB)"
   ]
  },
  {
   "cell_type": "code",
   "execution_count": 13,
   "metadata": {},
   "outputs": [
    {
     "name": "stdout",
     "output_type": "stream",
     "text": [
      "[[   9   -7   20]\n",
      " [  -7   25 -135]\n",
      " [ 425    9   -7]]\n"
     ]
    }
   ],
   "source": [
    "#Problem Set 1.2\n",
    "import numpy as np\n",
    "A = np.array([[3,1,4],[1,5,9],[-5,3,1]])\n",
    "B = -A**3+9*A**2-15*A\n",
    "print(B)"
   ]
  },
  {
   "cell_type": "code",
   "execution_count": 16,
   "metadata": {},
   "outputs": [
    {
     "name": "stdout",
     "output_type": "stream",
     "text": [
      "[[1 1 1 1 1 1 1]\n",
      " [0 1 1 1 1 1 1]\n",
      " [0 0 1 1 1 1 1]\n",
      " [0 0 0 1 1 1 1]\n",
      " [0 0 0 0 1 1 1]\n",
      " [0 0 0 0 0 1 1]\n",
      " [0 0 0 0 0 0 1]]\n",
      "[[-1  5  5  5  5  5  5]\n",
      " [-1 -1  5  5  5  5  5]\n",
      " [-1 -1 -1  5  5  5  5]\n",
      " [-1 -1 -1 -1  5  5  5]\n",
      " [-1 -1 -1 -1 -1  5  5]\n",
      " [-1 -1 -1 -1 -1 -1  5]\n",
      " [-1 -1 -1 -1 -1 -1 -1]]\n"
     ]
    }
   ],
   "source": [
    "#Problem Set 1.3\n",
    "import numpy as np\n",
    "A = np.triu(np.ones((7,7),dtype=np.int))\n",
    "print(A)\n",
    "B = np.tril(-6*np.ones((7,7),dtype=np.int))+5*np.ones((7,7),dtype=np.int)\n",
    "print(B)"
   ]
  },
  {
   "cell_type": "code",
   "execution_count": 42,
   "metadata": {},
   "outputs": [
    {
     "name": "stdout",
     "output_type": "stream",
     "text": [
      "[1 1 2 2 0]\n",
      "not a single array\n"
     ]
    }
   ],
   "source": [
    "#Problem Set 1.4\n",
    "import numpy as np\n",
    "def f(A):\n",
    "    if A.ndim != 1:\n",
    "        return(\"not a single array\")\n",
    "    else:\n",
    "        mask = A < 0\n",
    "        A[mask] = 0 \n",
    "        return(A)\n",
    "\n",
    "S1=f(np.array([1,1,2,2,-9]))\n",
    "print(S1)\n",
    "S2=f(np.array([[1,1,1,1],[2,2,2,2]]))\n",
    "print(S2)"
   ]
  },
  {
   "cell_type": "code",
   "execution_count": 61,
   "metadata": {},
   "outputs": [
    {
     "name": "stdout",
     "output_type": "stream",
     "text": [
      "[[ 0.  0.  0.  0.  1.  1.  1.  1.]\n",
      " [ 0.  0.  0.  2.  3.  1.  1.  1.]\n",
      " [ 0.  0.  0.  4.  5.  1.  1.  1.]\n",
      " [ 0.  2.  4.  0.  0.  0.  0.  0.]\n",
      " [ 1.  3.  5.  0.  0.  0.  0.  0.]\n",
      " [ 3.  0.  0.  0.  0. -2.  0.  0.]\n",
      " [ 3.  3.  0.  0.  0.  0. -2.  0.]\n",
      " [ 3.  3.  3.  0.  0.  0.  0. -2.]]\n"
     ]
    }
   ],
   "source": [
    "#Problem Set 1.5\n",
    "import numpy as np\n",
    "A = np.arange(6).reshape(3,2).T\n",
    "B = np.tril(3*np.ones((3,3),dtype=np.int))+np.zeros((3,3),dtype=np.int)\n",
    "C = np.diag([-2,-2,-2])\n",
    "X = np.hstack((np.zeros((3,3)),A.T, np.ones((3,3))))\n",
    "Y = np.hstack((A,np.zeros((2,2)),np.zeros((2,3))))\n",
    "Z = np.hstack((B,np.zeros((3,2)),C))\n",
    "D = np.vstack((X,Y,Z))\n",
    "print(D)"
   ]
  },
  {
   "cell_type": "code",
   "execution_count": 135,
   "metadata": {},
   "outputs": [
    {
     "name": "stdout",
     "output_type": "stream",
     "text": [
      "[[0.1  0.2  0.3  0.4 ]\n",
      " [0.25 0.25 0.25 0.25]]\n"
     ]
    }
   ],
   "source": [
    "#Problem Set 1.6\n",
    "import numpy as np\n",
    "def f(A):\n",
    "        B = np.array([A.sum(axis=1)]).T\n",
    "        C = C = A.shape\n",
    "        return(A/B*np.ones(A.shape))\n",
    "S1 = f(np.array([[1,2,3,4],[3,3,3,3]]))\n",
    "print(S1)"
   ]
  },
  {
   "cell_type": "code",
   "execution_count": 155,
   "metadata": {},
   "outputs": [
    {
     "name": "stdout",
     "output_type": "stream",
     "text": [
      "51267216\n"
     ]
    }
   ],
   "source": [
    "#Problem Set 1.7\n",
    "import numpy as np\n",
    "grid=np.load(\"grid.npy\")\n",
    "H = np.max(grid[:,:-3]*grid[:,1:-2]*grid[:,2:-1]*grid[:,3:])\n",
    "V = np.max(grid[:-3,:]*grid[1:-2,:]*grid[2:-1,:]*grid[3:,:])\n",
    "LR = np.max(grid[:-3,:-3]*grid[1:-2,1:-2]*grid[2:-1,2:-1]*grid[3:,3:])\n",
    "print(max(H,V,LR))"
   ]
  },
  {
   "cell_type": "code",
   "execution_count": 154,
   "metadata": {},
   "outputs": [
    {
     "name": "stdout",
     "output_type": "stream",
     "text": [
      "3 , 1 , 2.0\n"
     ]
    }
   ],
   "source": [
    "#Problem Set 2.1\n",
    "def f(L):\n",
    "    A = max(L)\n",
    "    B = min(L)\n",
    "    C = sum(L)/len(L)\n",
    "    print(A,\",\",B,\",\",C)\n",
    "\n",
    "S1 = [1, 2, 3]\n",
    "D = f(S1)"
   ]
  },
  {
   "cell_type": "code",
   "execution_count": 36,
   "metadata": {},
   "outputs": [
    {
     "name": "stdout",
     "output_type": "stream",
     "text": [
      "False False True False True\n"
     ]
    }
   ],
   "source": [
    "#Problem Set 2.2\n",
    "##int\n",
    "A_1 = 2\n",
    "A_2 = A_1\n",
    "A_2 = 3\n",
    "\n",
    "##str\n",
    "B_1 = \"str\"\n",
    "B_2 = B_1\n",
    "B_2 = \"strr\"\n",
    "\n",
    "##list\n",
    "C_1 = [1,\"hello\", 3]\n",
    "C_2 = C_1\n",
    "C_2[1] = \"hoho\"\n",
    "\n",
    "##tuple\n",
    "D_1 = (\"hi\", 1, \"ohoh\")\n",
    "D_2 = D_1\n",
    "D_2 += (1,)\n",
    "\n",
    "##set\n",
    "E_1 = {3, 3.55, \"hihi\"}\n",
    "E_2 = E_1\n",
    "E_2.add(\"jojo\")\n",
    "\n",
    "##Checking for mutablity\n",
    "print(A_1==A_2, B_1==B_2, C_1==C_2, D_1==D_2, E_1==E_2)"
   ]
  },
  {
   "cell_type": "code",
   "execution_count": 62,
   "metadata": {},
   "outputs": [
    {
     "data": {
      "text/plain": [
       "5.23606797749979"
      ]
     },
     "execution_count": 62,
     "metadata": {},
     "output_type": "execute_result"
    }
   ],
   "source": [
    "#Problem Set 2.3\n",
    "##Creating the Module\n",
    "calc = open(\"calc.py\",\"w\")\n",
    "\n",
    "from math import sqrt\n",
    "\n",
    "def s(a,b):\n",
    "    return a+b\n",
    "def m(a,b):\n",
    "    return a*b\n",
    "\n",
    "def Length(a,b):\n",
    "    return s(s(sqrt(s(m(a,a),m(b,b))),a),b)\n",
    "\n"
   ]
  },
  {
   "cell_type": "code",
   "execution_count": 152,
   "metadata": {},
   "outputs": [
    {
     "name": "stdout",
     "output_type": "stream",
     "text": [
      "The Power Set of {'A', 'B', 'C'} is\n",
      "['(empty set)', ('A',), ('B',), ('C',), ('A', 'B'), ('A', 'C'), ('B', 'C'), ('A', 'B', 'C')]\n"
     ]
    }
   ],
   "source": [
    "#Problem Set 2.4\n",
    "##Power Set Function\n",
    "def PS(x):\n",
    "    from itertools import combinations,chain\n",
    "    if type(x) == set:\n",
    "        z = 1\n",
    "        B = [\"empty set\"]\n",
    "        while z < len(x)+1:\n",
    "            B = B + list(combinations(x,z))\n",
    "            z += 1\n",
    "        print(\"The Power Set of\", x,\"is\")\n",
    "        print(B)\n",
    "    else:\n",
    "        print(\"The type of\", x, \"is not 'set'.\")\n",
    "        \n",
    "y={\"A\",\"B\",\"C\"}\n",
    "PS(y)"
   ]
  },
  {
   "cell_type": "code",
   "execution_count": 165,
   "metadata": {},
   "outputs": [
    {
     "ename": "NameError",
     "evalue": "name 'unittest' is not defined",
     "output_type": "error",
     "traceback": [
      "\u001b[0;31m---------------------------------------------------------------------------\u001b[0m",
      "\u001b[0;31mNameError\u001b[0m                                 Traceback (most recent call last)",
      "\u001b[0;32m<ipython-input-165-93c47836a167>\u001b[0m in \u001b[0;36m<module>\u001b[0;34m()\u001b[0m\n\u001b[1;32m      1\u001b[0m \u001b[0;31m#Problem Set 3.1\u001b[0m\u001b[0;34m\u001b[0m\u001b[0;34m\u001b[0m\u001b[0m\n\u001b[0;32m----> 2\u001b[0;31m \u001b[0munittest\u001b[0m\u001b[0;34m\u001b[0m\u001b[0m\n\u001b[0m",
      "\u001b[0;31mNameError\u001b[0m: name 'unittest' is not defined"
     ]
    }
   ],
   "source": [
    "#Problem Set 3.1\n",
    "unittest"
   ]
  },
  {
   "cell_type": "code",
   "execution_count": 161,
   "metadata": {},
   "outputs": [
    {
     "name": "stderr",
     "output_type": "stream",
     "text": [
      "UsageError: Line magic function `%pytest` not found.\n"
     ]
    }
   ],
   "source": [
    "%pytest"
   ]
  },
  {
   "cell_type": "code",
   "execution_count": 103,
   "metadata": {},
   "outputs": [
    {
     "data": {
      "text/plain": [
       "3"
      ]
     },
     "execution_count": 103,
     "metadata": {},
     "output_type": "execute_result"
    }
   ],
   "source": [
    "c = 2\n",
    "c = c+1\n",
    "c"
   ]
  },
  {
   "cell_type": "code",
   "execution_count": null,
   "metadata": {},
   "outputs": [],
   "source": []
  }
 ],
 "metadata": {
  "kernelspec": {
   "display_name": "Python 3",
   "language": "python",
   "name": "python3"
  },
  "language_info": {
   "codemirror_mode": {
    "name": "ipython",
    "version": 3
   },
   "file_extension": ".py",
   "mimetype": "text/x-python",
   "name": "python",
   "nbconvert_exporter": "python",
   "pygments_lexer": "ipython3",
   "version": "3.6.4"
  }
 },
 "nbformat": 4,
 "nbformat_minor": 2
}
