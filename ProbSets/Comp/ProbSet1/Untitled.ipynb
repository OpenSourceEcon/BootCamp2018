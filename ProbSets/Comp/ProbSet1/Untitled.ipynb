{
<<<<<<< HEAD
 "cells": [
  {
   "cell_type": "code",
   "execution_count": 1,
   "metadata": {},
   "outputs": [],
   "source": [
    "# Import packages\n",
    "import numpy as np\n",
    "import matplotlib.pyplot as plt\n",
    "\n",
    "# to print plots inline\n",
    "%matplotlib inline"
   ]
  },
  {
   "cell_type": "code",
   "execution_count": 2,
   "metadata": {},
   "outputs": [],
   "source": [
    "beta = 0.95\n",
    "sigma = 1.0\n",
    "R = 1"
   ]
  },
  {
   "cell_type": "code",
   "execution_count": 3,
   "metadata": {},
   "outputs": [],
   "source": [
    "'''\n",
    "------------------------------------------------------------------------\n",
    "Create Grid for State Space    \n",
    "------------------------------------------------------------------------\n",
    "lb_w      = scalar, lower bound of cake grid\n",
    "ub_w      = scalar, upper bound of cake grid \n",
    "size_w    = integer, number of grid points in cake state space\n",
    "w_grid    = vector, size_w x 1 vector of cake grid points \n",
    "------------------------------------------------------------------------\n",
    "'''\n",
    "lb_w = 0.4 \n",
    "ub_w = 1.0 \n",
    "size_w = 200  # Number of grid points\n",
    "w_grid = np.linspace(lb_w, ub_w, size_w)\n",
    "\n",
    "'''\n",
    "------------------------------------------------------------------------\n",
    "Create grid of current utility values    \n",
    "------------------------------------------------------------------------\n",
    "C        = matrix, current consumption (c=w-w')\n",
    "U        = matrix, current period utility value for all possible\n",
    "           choices of w and w' (rows are w, columns w')\n",
    "------------------------------------------------------------------------\n",
    "'''\n",
    "C = np.zeros((size_w, size_w)) \n",
    "for i in range(size_w): # loop over w\n",
    "    for j in range(size_w): # loop over w'\n",
    "        C[i, j] = w_grid[i] - w_grid[j] / R # note that if w'>w, consumption negative\n",
    "# replace 0 and negative consumption with a tiny value \n",
    "# This is a way to impose non-negativity on cons\n",
    "C[C<=0] = 1e-15\n",
    "if sigma == 1:\n",
    "    U = np.log(C)\n",
    "else:\n",
    "    U = (C ** (1 - sigma)) / (1 - sigma)\n",
    "U[C<0] = -9999999"
   ]
  },
  {
   "cell_type": "code",
   "execution_count": 4,
   "metadata": {},
   "outputs": [
    {
     "name": "stdout",
     "output_type": "stream",
     "text": [
      "Value function converged after this many iterations: 398\n"
     ]
    }
   ],
   "source": [
    "'''\n",
    "------------------------------------------------------------------------\n",
    "Value Function Iteration    \n",
    "------------------------------------------------------------------------\n",
    "VFtol     = scalar, tolerance required for value function to converge\n",
    "VFdist    = scalar, distance between last two value functions\n",
    "VFmaxiter = integer, maximum number of iterations for value function\n",
    "V         = vector, the value functions at each iteration\n",
    "Vmat      = matrix, the value for each possible combination of w and w'\n",
    "Vstore    = matrix, stores V at each iteration \n",
    "VFiter    = integer, current iteration number\n",
    "TV        = vector, the value function after applying the Bellman operator\n",
    "PF        = vector, indicies of choices of w' for all w \n",
    "VF        = vector, the \"true\" value function\n",
    "------------------------------------------------------------------------\n",
    "'''\n",
    "VFtol = 1e-8 \n",
    "VFdist = 7.0 \n",
    "VFmaxiter = 3000 \n",
    "V = np.zeros(size_w) # initial guess at value function\n",
    "Vmat = np.zeros((size_w, size_w)) # initialize Vmat matrix\n",
    "Vstore = np.zeros((size_w, VFmaxiter)) #initialize Vstore array\n",
    "VFiter = 1 \n",
    "while VFdist > VFtol and VFiter < VFmaxiter:  \n",
    "    for i in range(size_w): # loop over w\n",
    "        for j in range(size_w): # loop over w'\n",
    "            Vmat[i, j] = U[i, j] + beta * V[j] \n",
    "      \n",
    "    Vstore[:, VFiter] = V.reshape(size_w,) # store value function at each iteration for graphing later\n",
    "    TV = Vmat.max(1) # apply max operator to Vmat (to get V(w))\n",
    "    PF = np.argmax(Vmat, axis=1)\n",
    "    VFdist = (np.absolute(V - TV)).max()  # check distance\n",
    "    print('Interat')\n",
    "    V = TV\n",
    "    VFiter += 1 \n",
    "    \n",
    "\n",
    "\n",
    "if VFiter < VFmaxiter:\n",
    "    print('Value function converged after this many iterations:', VFiter)\n",
    "else:\n",
    "    print('Value function did not converge')            \n",
    "\n",
    "\n",
    "VF = V # solution to the functional equation"
   ]
  },
  {
   "cell_type": "code",
   "execution_count": 5,
   "metadata": {},
   "outputs": [],
   "source": [
    "'''\n",
    "------------------------------------------------------------------------\n",
    "Find consumption and savings policy functions   \n",
    "------------------------------------------------------------------------\n",
    "optW  = vector, the optimal choice of w' for each w\n",
    "optC  = vector, the optimal choice of c for each c\n",
    "------------------------------------------------------------------------\n",
    "'''\n",
    "optW = w_grid[PF] # tomorrow's optimal cake size (savings function)\n",
    "optC = w_grid - optW # optimal consumption - get consumption through the transition eqn"
   ]
  },
  {
   "cell_type": "code",
   "execution_count": 6,
   "metadata": {},
   "outputs": [
    {
     "data": {
      "image/png": "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\n",
      "text/plain": [
       "<matplotlib.figure.Figure at 0x10ee210f0>"
      ]
     },
     "metadata": {},
     "output_type": "display_data"
    }
   ],
   "source": [
    "# Plot value function \n",
    "plt.figure()\n",
    "# plt.plot(wvec, VF)\n",
    "plt.scatter(w_grid[1:], VF[1:])\n",
    "plt.xlabel('Size of Cake')\n",
    "plt.ylabel('Value Function')\n",
    "plt.title('Value Function - deterministic cake eating')\n",
    "plt.show()"
   ]
  },
  {
   "cell_type": "code",
   "execution_count": 7,
   "metadata": {
    "scrolled": true
   },
   "outputs": [
    {
     "data": {
      "text/plain": [
       "<matplotlib.figure.Figure at 0x114d932e8>"
      ]
     },
     "metadata": {},
     "output_type": "display_data"
    },
    {
     "data": {
      "image/png": "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\n",
      "text/plain": [
       "<matplotlib.figure.Figure at 0x114d93358>"
      ]
     },
     "metadata": {},
     "output_type": "display_data"
    }
   ],
   "source": [
    "# Plot value function at several iterations\n",
    "plt.figure()\n",
    "fig, ax = plt.subplots()\n",
    "ax.plot(w_grid, Vstore[:,0], label='1st iter')\n",
    "ax.plot(w_grid, Vstore[:,10], label='0th iter')\n",
    "ax.plot(w_grid, Vstore[:,20], label='20th iter')\n",
    "ax.plot(w_grid, Vstore[:,30], label='30th iter')\n",
    "ax.plot(w_grid, Vstore[:,40], label='40th iter')\n",
    "ax.plot(w_grid, Vstore[:,VFiter-1], 'k', label='Last iter')\n",
    "# Now add the legend with some customizations.\n",
    "legend = ax.legend(loc='lower right', shadow=False)\n",
    "# Set the fontsize\n",
    "for label in legend.get_texts():\n",
    "    label.set_fontsize('large')\n",
    "for label in legend.get_lines():\n",
    "    label.set_linewidth(1.5)  # the legend line width\n",
    "plt.xlabel('Size of Cake')\n",
    "plt.ylabel('Value Function')\n",
    "plt.title('Value Function - deterministic cake eating')\n",
    "plt.show()"
   ]
  },
  {
   "cell_type": "code",
   "execution_count": null,
   "metadata": {},
   "outputs": [],
   "source": []
  },
  {
   "cell_type": "code",
   "execution_count": null,
   "metadata": {},
   "outputs": [],
   "source": []
  }
 ],
 "metadata": {
  "kernelspec": {
   "display_name": "Python 3",
   "language": "python",
   "name": "python3"
  },
  "language_info": {
   "codemirror_mode": {
    "name": "ipython",
    "version": 3
   },
   "file_extension": ".py",
   "mimetype": "text/x-python",
   "name": "python",
   "nbconvert_exporter": "python",
   "pygments_lexer": "ipython3",
   "version": "3.6.4"
  }
 },
=======
 "cells": [],
 "metadata": {},
>>>>>>> master
 "nbformat": 4,
 "nbformat_minor": 2
}
