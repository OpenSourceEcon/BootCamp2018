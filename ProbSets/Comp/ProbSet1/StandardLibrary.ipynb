{
 "cells": [
  {
   "cell_type": "markdown",
   "metadata": {},
   "source": [
    "# Standard Library Exercise\n",
    "\n",
    "### Suleyman Gozen\n",
    " \n",
    " I thank Jay-Hyung Kim, Peiyao Sun and Yung-Hsu Tsui for their valuable comments."
   ]
  },
  {
   "cell_type": "code",
   "execution_count": 2,
   "metadata": {},
   "outputs": [
    {
     "data": {
      "text/plain": [
       "(6, 1, 3.5)"
      ]
     },
     "execution_count": 2,
     "metadata": {},
     "output_type": "execute_result"
    }
   ],
   "source": [
    "\"\"\"\n",
    "Problem 1\n",
    "\"\"\"\n",
    "\n",
    "def prob1(l):\n",
    "    '''\n",
    "    Function takes a list of numbers and returns the maximum, minimum and average. \n",
    "    \n",
    "    Input: List\n",
    "    '''\n",
    "    return max(l), min(l), float(sum(l))/len(l)\n",
    "\n",
    "l = [1,2,3,4,5,6]\n",
    "prob1(l)"
   ]
  },
  {
   "cell_type": "code",
   "execution_count": 6,
   "metadata": {},
   "outputs": [
    {
     "name": "stdout",
     "output_type": "stream",
     "text": [
      "<class 'list'> is mutable: True\n",
      "<class 'dict'> is mutable: True\n",
      "<class 'str'> is mutable: False\n",
      "<class 'int'> is mutable: False\n",
      "<class 'tuple'> is mutable: False\n"
     ]
    }
   ],
   "source": [
    "\"\"\"\n",
    "Problem 2\n",
    "\"\"\"\n",
    "\n",
    "def prob2(object1):\n",
    "    \"\"\"\n",
    "    Function checks if object is immutable. Returns a statement whether object types are mutable (\"True\") or immutable (\"False\").\n",
    "    \"\"\"\n",
    "    object2= object1\n",
    "    if type(object1) is list:\n",
    "        object2.append(1)\n",
    "    elif type(object1) is dict:\n",
    "        object2[1] = 'a'\n",
    "    elif type(object1) is tuple:\n",
    "        object2 += (1,)\n",
    "    elif type(object1) is str:\n",
    "        object2 += 'a'\n",
    "    else:\n",
    "        object2+=1\n",
    "        \n",
    "    Statement = object2 == object1\n",
    "    return print(str(type(object1)) +  \" is mutable: \" + str(Statement))\n",
    "        \n",
    "my_l = []\n",
    "my_dict = {}\n",
    "my_num = 0\n",
    "my_str = ''\n",
    "my_tuple = ()\n",
    "\n",
    "prob2(my_l)\n",
    "prob2(my_dict)\n",
    "prob2(my_str)\n",
    "prob2(my_num)\n",
    "prob2(my_tuple)"
   ]
  },
  {
   "cell_type": "code",
   "execution_count": 7,
   "metadata": {},
   "outputs": [
    {
     "data": {
      "text/plain": [
       "13.0"
      ]
     },
     "execution_count": 7,
     "metadata": {},
     "output_type": "execute_result"
    }
   ],
   "source": [
    "\"\"\"\n",
    "Problem 3: \n",
    "\n",
    "\"\"\"\n",
    "import Calculator as calc\n",
    "\n",
    "def prob3(a, b):\n",
    "    '''\n",
    "    Function calculates the hypotenuse of a right triangle given two sides.\n",
    "    \n",
    "    Input:\n",
    "    Side 1 \n",
    "    Side 2\n",
    "\n",
    "    \n",
    "    '''\n",
    "    hypotenuse  = calc.sqrt(calc.sum(calc.prod(a,a), calc.prod(b,b)))\n",
    "    return hypotenuse \n",
    "\n",
    "side1 = 5\n",
    "side2 = 12\n",
    "prob3(side1, side2)"
   ]
  },
  {
   "cell_type": "code",
   "execution_count": 14,
   "metadata": {},
   "outputs": [
    {
     "data": {
      "text/plain": [
       "[[],\n",
       " [1],\n",
       " [3],\n",
       " [5],\n",
       " [7],\n",
       " [1, 3],\n",
       " [1, 5],\n",
       " [1, 7],\n",
       " [3, 5],\n",
       " [3, 7],\n",
       " [5, 7],\n",
       " [1, 3, 5],\n",
       " [1, 3, 7],\n",
       " [1, 5, 7],\n",
       " [3, 5, 7],\n",
       " [1, 3, 5, 7]]"
      ]
     },
     "execution_count": 14,
     "metadata": {},
     "output_type": "execute_result"
    }
   ],
   "source": [
    "\"\"\"\n",
    "Problem 4\n",
    "\n",
    "Function accepts an iterable set A and returns the power set of the set A.\n",
    "\"\"\"\n",
    "\n",
    "from itertools import chain, combinations \n",
    "\n",
    "def powerset(iterable):\n",
    "    s = list(iterable)\n",
    "    return chain.from_iterable(combinations(s, r) for r in range(len(s)+1))\n",
    "    \n",
    "def power(items):\n",
    "    return [list(i) for i in powerset(items)]\n",
    "\n",
    "a = (1,3,5,7)\n",
    "power(a)\n"
   ]
  },
  {
   "cell_type": "code",
   "execution_count": 15,
   "metadata": {},
   "outputs": [
    {
     "name": "stdout",
     "output_type": "stream",
     "text": [
      "Tell me your nameSuleyman\n",
      "\n",
      "\n",
      "Numbers left: [1, 2, 3, 4, 5, 6, 7, 8, 9]\n",
      "Roll: 7\n",
      "Which numbers to flip: 7\n",
      "\n",
      "\n",
      "Numbers left: [1, 2, 3, 4, 5, 6, 8, 9]\n",
      "Roll: 11\n",
      "Which numbers to flip: 2 9\n",
      "\n",
      "\n",
      "Numbers left: [1, 3, 4, 5, 6, 8]\n",
      "Roll: 3\n",
      "Which numbers to flip: 3\n",
      "\n",
      "\n",
      "Numbers left: [1, 4, 5, 6, 8]\n",
      "Roll: 9\n",
      "Which numbers to flip: 5 4\n",
      "\n",
      "\n",
      "Numbers left: [1, 6, 8]\n",
      "Roll: 5\n",
      "Game Over!\n",
      "\n",
      "\n",
      "Score for player Suleyman : 15 points\n"
     ]
    }
   ],
   "source": [
    "\"\"\"\n",
    "Problem 5\n",
    "\n",
    "Shut the box game.\n",
    "\n",
    "\"\"\"\n",
    "import sys\n",
    "import box\n",
    "import random\n",
    "\n",
    "def get_name():\n",
    "    '''\n",
    "    Asks for users name.\n",
    "    \n",
    "    '''\n",
    "    if len(sys.argv) != 2:\n",
    "        name = input(\"Tell me your name\")\n",
    "    else:\n",
    "        name = sys.argv[1]\n",
    "    return name\n",
    "\n",
    "def rolldice(remaining):\n",
    "    \"\"\"\n",
    "    Return sum of two simulated dice rolls if sum of remaining numbers is greater than 6,\n",
    "    and returns one dice roll if sum of remaining numbers if less than 6. \n",
    "    \"\"\"\n",
    "    a = random.randint(1,6)\n",
    "    b = random.randint(1,6)\n",
    "    if score(remaining) > 6:\n",
    "        return a+b\n",
    "    else:\n",
    "        return a\n",
    "    \n",
    "def score(a):\n",
    "    \"\"\"\n",
    "    Sums a list of integers to return to the score of the player \n",
    "    at the end of the game.\n",
    "    \n",
    "    Inputs: list\n",
    "    \"\"\"\n",
    "    return sum(a)\n",
    "\n",
    "def game_over(remaining):\n",
    "    '''\n",
    "    End of game.\n",
    "    '''\n",
    "    result = score(remaining)\n",
    "    print(\"Score for player \" + name + \" : \" + str(result) + \" points\")\n",
    "    if result == 0:\n",
    "        print(\"Congrats! You shut the box!\")\n",
    "    return None\n",
    "      \n",
    "name = get_name()\n",
    "remaining  = [1,2,3,4,5,6,7,8,9]\n",
    "while True: \n",
    "    if score(remaining) != 0:\n",
    "        roll = rolldice(remaining)\n",
    "        print(\"\\n\")\n",
    "        print(\"Numbers left: \" + str(remaining))    \n",
    "        print(\"Roll: \" + str(roll))\n",
    "        if box.isvalid(roll, remaining):\n",
    "            while True:\n",
    "                elim = input(\"Which numbers to flip: \")\n",
    "                choice = box.parse_input(elim, remaining)\n",
    "                if len(choice) > 0:\n",
    "                    if sum(choice) == roll:\n",
    "                        break\n",
    "                    else:\n",
    "                        print(\"Invalid Input\")  \n",
    "                else:\n",
    "                    print(\"Invalid Input\")\n",
    "            remaining = [num for num in remaining if num not in choice]\n",
    "        else:\n",
    "            print(\"Game Over!\")\n",
    "            print(\"\\n\")\n",
    "            game_over(remaining)\n",
    "            break\n",
    "    else: \n",
    "        game_over(remaining)\n",
    "        break"
   ]
  },
  {
   "cell_type": "code",
   "execution_count": null,
   "metadata": {
    "collapsed": true
   },
   "outputs": [],
   "source": []
  }
 ],
 "metadata": {
  "kernelspec": {
   "display_name": "Python 3",
   "language": "python",
   "name": "python3"
  },
  "language_info": {
   "codemirror_mode": {
    "name": "ipython",
    "version": 3
   },
   "file_extension": ".py",
   "mimetype": "text/x-python",
   "name": "python",
   "nbconvert_exporter": "python",
   "pygments_lexer": "ipython3",
   "version": "3.6.3"
  }
 },
 "nbformat": 4,
 "nbformat_minor": 2
}
