{
 "cells": [
  {
   "cell_type": "markdown",
   "metadata": {},
   "source": [
    "# OSM 2018 Economics \n",
    "## Problem Set 2\n",
    "### 06.30.2018 \n",
    "### Yung-Hsu Tsui*"
   ]
  },
  {
   "cell_type": "markdown",
   "metadata": {},
   "source": [
    "### Exercise 1"
   ]
  },
  {
   "cell_type": "code",
   "execution_count": 60,
   "metadata": {},
   "outputs": [
    {
     "name": "stdout",
     "output_type": "stream",
     "text": [
      "The difference between the r(X) and its limit is :  3.270455073911549e-05\n"
     ]
    }
   ],
   "source": [
    "from scipy.linalg import eigvals\n",
    "from scipy.linalg import norm\n",
    "from scipy.linalg import fractional_matrix_power\n",
    "import numpy as np\n",
    "\n",
    "X = np.loadtxt('matrix_data.txt')\n",
    "E = linalg.eigvals(X)\n",
    "r = max(abs(E))\n",
    "v = np.array(range(10))\n",
    "v += 1\n",
    "i = 1e+5\n",
    "b = norm(fractional_matrix_power(X, i)@ v)**(1/i)\n",
    "print('The difference between the r(X) and its limit is : ',abs(r-b))"
   ]
  },
  {
   "cell_type": "markdown",
   "metadata": {},
   "source": [
    "### Exercise 2"
   ]
  },
  {
   "cell_type": "code",
   "execution_count": 69,
   "metadata": {},
   "outputs": [
    {
     "data": {
      "image/png": "[encoded data removed]",
      "text/plain": [
       "<matplotlib.figure.Figure at 0x1514e41748>"
      ]
     },
     "metadata": {},
     "output_type": "display_data"
    }
   ],
   "source": [
    "import random\n",
    "import matplotlib.pyplot as plt\n",
    "\n",
    "n = 100\n",
    "m = 100\n",
    "x = np.zeros((n * m, 1))\n",
    "g = lambda x: 4 * x * (1 - x)\n",
    "\n",
    "for i in range(n):                     # Generate one Random number set\n",
    "    x0 = np.random.uniform(0.0,1.0,n)\n",
    "    for j in range(m):\n",
    "        t = i * m + j\n",
    "        if j == 0:\n",
    "            x[t] = x0[0]\n",
    "        else:\n",
    "            x[t] = g(x[t - 1])\n",
    "plt.title(\"Histogram of the Quadratic Map\")\n",
    "plt.hist(x, bins = 100)\n",
    "plt.show()"
   ]
  },
  {
   "cell_type": "markdown",
   "metadata": {},
   "source": [
    "### Exercise 3\n",
    "Prove if $(\\mathbb X, g)$ is a dynamical system, $g$ is continuous at $\\hat x \\in \\mathbb X$ and, for some $x \\in \\mathbb X$, $g^t(x) \\to \\hat x$, then $\\hat x$ is a steady state of $(\\mathbb X, g)$."
   ]
  },
  {
   "cell_type": "markdown",
   "metadata": {},
   "source": [
    "$Proof$: According to Brouwer's fixed-point theorem, we know that for any continuous function f mapping a compact convex set to itself, there is a point $x_{0}$ such that $f(x_{0})=x_{0}$. Since for $x \\in \\mathbb X$, $g^t(x) \\to \\hat x$ as g is continuous, there exists a $\\hat x$ is a steady state of $(\\mathbb X, g)$."
   ]
  },
  {
   "cell_type": "code",
   "execution_count": null,
   "metadata": {},
   "outputs": [],
   "source": []
  }
 ],
 "metadata": {
  "kernelspec": {
   "display_name": "Python 3",
   "language": "python",
   "name": "python3"
  },
  "language_info": {
   "codemirror_mode": {
    "name": "ipython",
    "version": 3
   },
   "file_extension": ".py",
   "mimetype": "text/x-python",
   "name": "python",
   "nbconvert_exporter": "python",
   "pygments_lexer": "ipython3",
   "version": "3.6.4"
  }
 },
 "nbformat": 4,
 "nbformat_minor": 2
}
