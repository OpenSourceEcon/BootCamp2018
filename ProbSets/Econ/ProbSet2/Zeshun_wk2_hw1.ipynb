{
 "cells": [
  {
   "cell_type": "markdown",
   "metadata": {},
   "source": [
    "## OSM Bootcamp 2018 Exercise Set 1\n",
    "\n",
    "\n",
    "#### John Stachurski"
   ]
  },
  {
   "cell_type": "markdown",
   "metadata": {},
   "source": [
    "### Exercise 1\n",
    "\n",
    "Let $X$ be an $n \\times n$ matrix with all positive elements.  The spectral radius $r(X)$ of $X$ is maximum of $|\\lambda|$ over all eigenvalues $\\lambda$ of $X$, where $|\\cdot|$ is the modulus of a complex number.\n",
    "\n",
    "A version of the **local spectral radius theorem** states that if $X$ has all positive entries and $v$ is any strictly positive $n \\times 1$ vector, then\n",
    "\n",
    "$$\n",
    "    \\lim_{i \\to \\infty} \\| X^i v \\|^{1/i} \\to r(X) \n",
    "    \\qquad \\qquad \\text{(LSR)}\n",
    "$$\n",
    "\n",
    "where $\\| \\cdot \\|$ is the usual Euclidean norm.\n",
    "\n",
    "Intuitively, the norm of the iterates of a positive vector scale like $r(X)$ asymptotically.\n",
    "\n",
    "The data file `matrix_data.txt` contains the data for a single matrix $X$.  \n",
    "\n",
    "1. Read it in and compute the spectral raduis using the tools for working with eigenvalues in `scipy.linalg`.\n",
    "\n",
    "2. Test the claim in (LSR) iteratively, computing $\\| X^i v \\|^{1/i}$ for successively larger values of $i$.  See if the sequence so generated converges to $r(A)$."
   ]
  },
  {
   "cell_type": "code",
   "execution_count": 2,
   "metadata": {},
   "outputs": [
    {
     "data": {
      "image/png": "[encoded data removed]",
      "text/plain": [
       "<matplotlib.figure.Figure at 0x106316a20>"
      ]
     },
     "metadata": {},
     "output_type": "display_data"
    }
   ],
   "source": [
    "import numpy as np\n",
    "import matplotlib.pyplot as plt\n",
    "from numba import vectorize, jit, njit, float64, prange\n",
    "%matplotlib inline\n",
    "\n",
    "def problem1():\n",
    "    mat = np.loadtxt(\"matrix_data.txt\")\n",
    "    matrix_norm = np.linalg.norm(mat, 2)\n",
    "    #print(matrix_norm)\n",
    "    #print(len(mat))\n",
    "    random_vector = np.array([1]*len(mat))\n",
    "    random_vector = random_vector.reshape((-1,1))\n",
    "    #print(random_vector)\n",
    "\n",
    "\n",
    "    iteration = 30\n",
    "    temp = np.dot(mat, random_vector)\n",
    "    result = [0]*iteration\n",
    "    result[0] = np.linalg.norm(temp, 2) ** (1/(1))\n",
    "\n",
    "    for i in range(2, iteration+1):\n",
    "        temp = np.dot(mat, temp)\n",
    "        result[i-1] = np.linalg.norm(temp, 2) ** (1/(iteration))\n",
    "\n",
    "    truth = [matrix_norm]*iteration\n",
    "    plt.plot(truth, label = \"True norm\")\n",
    "    plt.plot(result, label = \"Iteration result\")\n",
    "    plt.legend()\n",
    "    plt.show()\n",
    "    \n",
    "problem1()"
   ]
  },
  {
   "cell_type": "markdown",
   "metadata": {
    "collapsed": true
   },
   "source": [
    "### Exercise 2"
   ]
  },
  {
   "cell_type": "markdown",
   "metadata": {},
   "source": [
    "Recall that the quadratic map generates time series of the form\n",
    "\n",
    "$$ x_{t+1} = 4 \\, x_t (1 - x_t) $$\n",
    "\n",
    "for some given $x_0$, and that these trajectories are chaotic.\n",
    "\n",
    "This means that different initial conditions generate seemingly very different outcomes.\n",
    "\n",
    "Nevertheless, the regions of the state space where these trajectories spend most of their time are in fact typically invariant to the initial condition.\n",
    "\n",
    "Illustrate this by generating 100 histograms of time series generated from the quadratic map, with $x_0$ drawn independently from the uniform distribution on $(0, 1)$.  \n",
    "\n",
    "Do they all look alike?\n",
    "\n",
    "Try to make your code efficient.\n",
    "\n"
   ]
  },
  {
   "cell_type": "code",
   "execution_count": 6,
   "metadata": {},
   "outputs": [
    {
     "name": "stdout",
     "output_type": "stream",
     "text": [
      "The histograms look pretty much alike.\n"
     ]
    },
    {
     "data": {
      "image/png": "[encoded data removed]",
      "text/plain": [
       "<matplotlib.figure.Figure at 0x6107b5128>"
      ]
     },
     "metadata": {},
     "output_type": "display_data"
    }
   ],
   "source": [
    "@jit\n",
    "def problem2():\n",
    "    SMALL_SIZE = 4\n",
    "    MEDIUM_SIZE = 5\n",
    "    BIGGER_SIZE = 6\n",
    "\n",
    "    plt.rc('font', size=SMALL_SIZE)          # controls default text sizes\n",
    "    plt.rc('axes', titlesize=SMALL_SIZE)     # fontsize of the axes title\n",
    "    plt.rc('axes', labelsize=MEDIUM_SIZE)    # fontsize of the x and y labels\n",
    "    plt.rc('xtick', labelsize=SMALL_SIZE)    # fontsize of the tick labels\n",
    "    plt.rc('ytick', labelsize=SMALL_SIZE)    # fontsize of the tick labels\n",
    "    plt.rc('legend', fontsize=SMALL_SIZE)    # legend fontsize\n",
    "    plt.rc('figure', titlesize=BIGGER_SIZE)\n",
    "\n",
    "    iteration = 500\n",
    "\n",
    "    #draw 100 samples\n",
    "\n",
    "    x_0_grid = np.random.uniform(0,1, 100)\n",
    "    #print(x_0_grid)\n",
    "    x=0\n",
    "    plt.figure(figsize = [8,8])\n",
    "    for j in range(100):\n",
    "        x = x_0_grid[j]\n",
    "        result = np.empty(iteration)\n",
    "        result[0] = func(x)\n",
    "        #print(result)\n",
    "        for i in range(1, iteration):\n",
    "            result[i] = func(result[i-1])\n",
    "\n",
    "        #result = np.empty_like(x_0_grid)\n",
    "        plt.subplot(10,10,j+1)\n",
    "        plt.hist(result)\n",
    "\n",
    "    plt.tight_layout()\n",
    "    print(\"The histograms look pretty much alike.\")\n",
    "    plt.show()\n",
    "    #print(result)\n",
    "\n",
    "\n",
    "@jit\n",
    "def func(x):\n",
    "    return 4 * x * (1 - x)\n",
    "\n",
    "\n",
    "problem2()\n"
   ]
  },
  {
   "cell_type": "markdown",
   "metadata": {
    "collapsed": true
   },
   "source": [
    "### Exercise 3"
   ]
  },
  {
   "cell_type": "markdown",
   "metadata": {},
   "source": [
    "In the lecture it was claim that, if $(\\mathbb X, g)$ is a dynamical system, $g$ is continuous at $\\hat x \\in \\mathbb X$ and, for some $x \\in \\mathbb X$, $g^t(x) \\to \\hat x$, then $\\hat x$ is a steady state of $(\\mathbb X, g)$.\n",
    "\n",
    "Prove this."
   ]
  },
  {
   "cell_type": "markdown",
   "metadata": {},
   "source": [
    "By assumption, $\\lim_{t \\to \\infty} g^t(x) = \\hat{x}$ for some $x$.\n",
    "Now, pick any $x_0$ such that the above limit converges. Let $x_1 = g(x_0), x_2 = g(x_1), ... x_t = g(x_{t-1}), ...$ Then it follows that $\\lim_{t \\to \\infty} x_t = \\lim_{t \\to \\infty} g(x_{t-1}) = \\hat{x}$.\n",
    "Since $g$ is continuous at $\\hat{x}$, $\\exists \\delta > 0$, such that $g$ is continuous on $B(\\hat{x}, \\delta)$, the interval centered at $\\hat{x}$ with radius $\\delta$. By definition of limit, fix this $\\delta > 0, \\exists N \\in \\mathbb{N}$, s.t. if $n>N, |x_n - \\hat{x}| < \\delta.$ We consider the subsequence of $\\{x_t\\}_{t=N+1}^{\\infty},$ where each each $x_t$ falls in the interval where $g$ is continuous.\n",
    "By the sequential characterization of continuous function, we have \n",
    "$$\\hat{x} = \\lim_{t \\to \\infty} g(x_t) = g(\\lim_{t \\to \\infty} x_t) = g(\\hat{x}).$$ Hence $\\hat{x}$ is a steady state."
   ]
  },
  {
   "cell_type": "code",
   "execution_count": null,
   "metadata": {},
   "outputs": [],
   "source": []
  }
 ],
 "metadata": {
  "kernelspec": {
   "display_name": "Python 3",
   "language": "python",
   "name": "python3"
  },
  "language_info": {
   "codemirror_mode": {
    "name": "ipython",
    "version": 3
   },
   "file_extension": ".py",
   "mimetype": "text/x-python",
   "name": "python",
   "nbconvert_exporter": "python",
   "pygments_lexer": "ipython3",
   "version": "3.6.4"
  }
 },
 "nbformat": 4,
 "nbformat_minor": 2
}
