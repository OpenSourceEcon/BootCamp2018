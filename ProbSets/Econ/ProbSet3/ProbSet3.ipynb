{
 "cells": [
  {
   "cell_type": "markdown",
   "metadata": {},
   "source": [
    "# OSM 2018 Economics \n",
    "## Problem Set 3\n",
    "### 07.09.2018 \n",
    "### Yung-Hsu Tsui*\n",
    "* I thank Jay-Hyung Kim for his precious comments."
   ]
  },
  {
   "cell_type": "markdown",
   "metadata": {},
   "source": [
    "## Exercise 1\n",
    "\n",
    "Using the calibration from Section 2.6, write a Python function named feasible()"
   ]
  },
  {
   "cell_type": "code",
   "execution_count": 10,
   "metadata": {},
   "outputs": [],
   "source": [
    "# Feasible Function\n",
    "import numpy as np\n",
    "\n",
    "def feasible(f_params, bvec_guess):\n",
    "    nvec, A, alpha, delta =f_params\n",
    "    b2  = bvec_guess[0]\n",
    "    b3  = bvec_guess[1]\n",
    "    \n",
    "    K = b2 + b3\n",
    "    L = nvec[0]+nvec[1]+nvec[2]\n",
    "    r = alpha*A*(K**(alpha-1))*(L**(1-alpha))\n",
    "    w = (1-alpha)*A*(K**alpha) * (L**(-alpha))\n",
    "    c1 = w - b2\n",
    "    c2 = w + (1+r) * b2 - b3\n",
    "    c3 = 0.2*w+(1+r)*b3\n",
    "    \n",
    "    # Test for K\n",
    "    if K <= 0:\n",
    "        K_constr = 1\n",
    "        \n",
    "    else:\n",
    "        K_constr = 0\n",
    "        \n",
    "    # Test for Consumption\n",
    "    \n",
    "    \n",
    "    if c1 <= 0:\n",
    "        c_cnstr1 = 1\n",
    "    else:\n",
    "        c_cnstr1 = 0\n",
    "\n",
    "    if c2 <= 0:\n",
    "        c_cnstr2 = 1\n",
    "    else:\n",
    "        c_cnstr2 = 0\n",
    "        \n",
    "    if c3 <= 0:\n",
    "        c_cnstr3 = 1\n",
    "    else:\n",
    "        c_cnstr3 = 0\n",
    "        \n",
    "    \n",
    "    c_cnstr = (c_cnstr1,c_cnstr2,c_cnstr3)\n",
    "    \n",
    "\n",
    "    if ( c_cnstr[1] == 1 ):\n",
    "        b_cnstr1 = 1\n",
    "        b_cnstr2 = 1\n",
    "        \n",
    "    elif (c_cnstr[1] !=1 ):\n",
    "        \n",
    "        if c_cnstr[0]==1 :\n",
    "            b_cnstr1 = 1\n",
    "            if c_cnstr[2] ==1:\n",
    "                b_cnstr2 = 1\n",
    "            elif c_cnstr[2] != 1:\n",
    "                b_cnstr2 = 0\n",
    "                \n",
    "        elif (c_cnstr[0] !=1):\n",
    "            b_cnstr1 = 0\n",
    "            if c_cnstr[2] ==1:\n",
    "                b_cnstr2 = 1\n",
    "            elif c_cnstr[2] != 1:\n",
    "                b_cnstr2 = 0\n",
    "    \n",
    "    b_cnstr = (b_cnstr1,b_cnstr2)    \n",
    "    \n",
    "    return b_cnstr, c_cnstr, K_constr"
   ]
  },
  {
   "cell_type": "code",
   "execution_count": 11,
   "metadata": {},
   "outputs": [],
   "source": [
    "#Set Parameters\n",
    "nvec = np.array([1.0,1.0,0.2])\n",
    "beta = 0.442\n",
    "delta = 0.6415\n",
    "sigma = 3.0\n",
    "A = 1\n",
    "alpha = 0.35\n",
    "f_params = (nvec, A, alpha, delta)"
   ]
  },
  {
   "cell_type": "markdown",
   "metadata": {},
   "source": [
    "### Exercise 1.1\n",
    "Which, if any, of the constraints is violated if you choose an initial guess for steady-state savings of bvec_guess = np.array([1.0, 1.2])?"
   ]
  },
  {
   "cell_type": "code",
   "execution_count": 18,
   "metadata": {},
   "outputs": [
    {
     "data": {
      "text/plain": [
       "((1, 0), (1, 0, 0), 0)"
      ]
     },
     "execution_count": 18,
     "metadata": {},
     "output_type": "execute_result"
    }
   ],
   "source": [
    "bvec_guess = np.array([1, 1.2])\n",
    "feasible(f_params, bvec_guess)"
   ]
  },
  {
   "cell_type": "markdown",
   "metadata": {},
   "source": [
    "### Exercise 1.2\n",
    "Which, if any, of the constraints is violated if you choose an initial guess for steady-state savings of bvec_guess = np.array([0.06, -0.001])?"
   ]
  },
  {
   "cell_type": "code",
   "execution_count": 7,
   "metadata": {},
   "outputs": [
    {
     "data": {
      "text/plain": [
       "((0, 0), (0, 0, 0), 0)"
      ]
     },
     "execution_count": 7,
     "metadata": {},
     "output_type": "execute_result"
    }
   ],
   "source": [
    "bvec_guess = np.array([0.06, -.001])\n",
    "feasible(f_params, bvec_guess)"
   ]
  },
  {
   "cell_type": "markdown",
   "metadata": {},
   "source": [
    "### Exercise 1.3\n",
    "Which, if any, of the constraints is violated if you choose an initial guess for steady-state savings of bvec_guess = np.array([0.1, 0.1])?"
   ]
  },
  {
   "cell_type": "code",
   "execution_count": 19,
   "metadata": {},
   "outputs": [
    {
     "data": {
      "text/plain": [
       "((0, 0), (0, 0, 0), 0)"
      ]
     },
     "execution_count": 19,
     "metadata": {},
     "output_type": "execute_result"
    }
   ],
   "source": [
    "bvec_guess = np.array([0.01, 0.1])\n",
    "feasible(f_params, bvec_guess)"
   ]
  },
  {
   "cell_type": "markdown",
   "metadata": {},
   "source": [
    "## Exercise 2\n",
    "Use the calibration from Section 2.6 and the steady-state equilibrium Definition 2.1. Write a function named get SS()"
   ]
  },
  {
   "cell_type": "code",
   "execution_count": 12,
   "metadata": {},
   "outputs": [],
   "source": [
    "import scipy.optimize as opt\n",
    "\n",
    "def get_w(bvec,w_args):\n",
    "    b2, b3 = bvec\n",
    "    alpha, A, nvec = w_args\n",
    "    K = b2 + b3\n",
    "    L = nvec[0]+nvec[1]+nvec[2]\n",
    "    w = (1-alpha)*A*(K**alpha) * (L**(-alpha))\n",
    "    \n",
    "    return w\n",
    "\n",
    "\n",
    "def get_r(bvec, r_args):\n",
    "    b2, b3 = bvec\n",
    "    alpha, A, nvec,delta = r_args\n",
    "    K = b2 + b3\n",
    "    L = nvec[0]+nvec[1]+nvec[2]\n",
    "    \n",
    "    r = alpha*A*(K**(alpha-1))*(L**(1-alpha)) - delta\n",
    "    return r\n",
    "\n",
    "\n",
    "def Eul_errs(bvec, *args):\n",
    "    \n",
    "    A, alpha, beta, sigma, nvec,delta = args\n",
    "    \n",
    "    r_args = (alpha, A, nvec,delta)\n",
    "    w_args = (alpha, A, nvec)\n",
    "    \n",
    "    r = get_r(bvec,r_args)\n",
    "    w = get_w(bvec,w_args)\n",
    "    \n",
    "    eul_err = np.zeros([1,2])\n",
    "    \n",
    "    b2=bvec[0]\n",
    "    b3=bvec[1]\n",
    "    \n",
    "    n1=nvec[0]\n",
    "    n2=nvec[1]\n",
    "    n3=nvec[2]\n",
    "    \n",
    "    c1 = w*n1 - b2\n",
    "    c2 = (1+r)*b2 + w*n2 - b3\n",
    "    c3 = (1+r)*b3 + w*n3\n",
    "    \n",
    "    err1 = (c1)**(-sigma) - beta * (1+r)*((c2)**(-sigma))\n",
    "    err2 = (c2)**(-sigma) - beta * (1+r)*((c3)**(-sigma))\n",
    "    err_vec = np.array([err1, err2])\n",
    "\n",
    "    \n",
    "    return err_vec\n",
    "\n",
    "\n",
    "\n",
    "def get_SS(params, bvec_guess, SS_graphs=True):\n",
    "    \n",
    "    import time\n",
    "    \n",
    "    start_time = time.clock() # Place at beginning of get_SS()\n",
    "    \n",
    "    \n",
    "    beta, sigma, nvec, L, A, alpha, delta, SS_tol  = params\n",
    "    \n",
    "    \n",
    "    \n",
    "    args1 = (A, alpha, beta, sigma, nvec,delta)\n",
    "    \n",
    "    \n",
    "    #b2  = bvec_guess[0]\n",
    "    #b3  = bvec_guess[1]\n",
    "    \n",
    "    \n",
    "    results = opt.root(Eul_errs,np.array([bvec_guess[0],bvec_guess[1]]),args=args1)\n",
    "\n",
    "    b_ss = results.x\n",
    "    \n",
    "    K_ss = np.sum(b_ss)\n",
    "    L_ss = np.sum(nvec)\n",
    "    \n",
    "    w_ss = (1-alpha)*A*(K_ss**alpha) * (L_ss**(-alpha))\n",
    "    r_ss = alpha*A*(K_ss**(alpha-1))*(L_ss**(1-alpha))-delta\n",
    "    \n",
    "    c_ss1 = nvec[0]*w_ss - b_ss[0]\n",
    "    c_ss2 = nvec[1]*w_ss + (1+r_ss)*b_ss[0] - b_ss[1]\n",
    "    c_ss3 = nvec[2]*w_ss + (1+r_ss)*b_ss[1]\n",
    "    c_ss = np.array([c_ss1,c_ss2,c_ss3])\n",
    "    C_ss = np.sum(c_ss)\n",
    "    Y_ss = A*(K_ss**alpha)*((L_ss)**(1-alpha))\n",
    "    \n",
    "    EulErr_ss = results.fun\n",
    "    RCerr_ss = Y_ss-C_ss -delta*K_ss\n",
    "    ss_time = time.clock() - start_time # Place at end of get_SS()\n",
    "    \n",
    "    ss_output = {'b_ss': b_ss, 'c_ss': c_ss, 'w_ss': w_ss, 'r_ss': r_ss,'K_ss': K_ss, 'Y_ss': Y_ss, 'C_ss': C_ss,'EulErr_ss': EulErr_ss, 'RCerr_ss': RCerr_ss, 'ss_time': ss_time}\n",
    "    return ss_output"
   ]
  },
  {
   "cell_type": "markdown",
   "metadata": {},
   "source": [
    "### Exercise 2.1\n",
    "Solve numerically for the steady-state equilibrium values. List those values. Time your function. How long did it take to compute the steady-state?"
   ]
  },
  {
   "cell_type": "code",
   "execution_count": 20,
   "metadata": {},
   "outputs": [
    {
     "data": {
      "text/plain": [
       "{'C_ss': 0.6329006729415257,\n",
       " 'EulErr_ss': array([-1.36276412e-09,  3.02372882e-09]),\n",
       " 'K_ss': 0.07772362575396088,\n",
       " 'RCerr_ss': 4.85722573273506e-17,\n",
       " 'Y_ss': 0.6827603788626917,\n",
       " 'b_ss': array([0.01931253, 0.0584111 ]),\n",
       " 'c_ss': array([0.18241213, 0.20961468, 0.24087387]),\n",
       " 'r_ss': 2.433062339106576,\n",
       " 'ss_time': 0.0007820000000000604,\n",
       " 'w_ss': 0.2017246573912498}"
      ]
     },
     "execution_count": 20,
     "metadata": {},
     "output_type": "execute_result"
    }
   ],
   "source": [
    "SS_tol = 10**(-8)\n",
    "#params=(beta, sigma, nvec, L, A, alpha, delta, SS_tol)\n",
    "params=(0.442, 3, np.array([1.0,1.0,0.2]), np.sum(np.array([1.0,1.0,0.2])), 1, 0.35, 0.6415, SS_tol)\n",
    "bvec_guess = np.array([0.5,0.8])\n",
    "S = get_SS(params, bvec_guess)\n",
    "S"
   ]
  },
  {
   "cell_type": "markdown",
   "metadata": {},
   "source": [
    "It takes 0.002 sec to compute the steady-state."
   ]
  },
  {
   "cell_type": "markdown",
   "metadata": {},
   "source": [
    "### Exercise 2.2\n",
    "Generate a figure that shows the steady-state distribution of consumption and savings."
   ]
  },
  {
   "cell_type": "code",
   "execution_count": 21,
   "metadata": {},
   "outputs": [
    {
     "data": {
      "image/png": "[encoded data removed]",
      "text/plain": [
       "<matplotlib.figure.Figure at 0x150c9ecb00>"
      ]
     },
     "metadata": {},
     "output_type": "display_data"
    },
    {
     "data": {
      "image/png": "[encoded data removed]",
      "text/plain": [
       "<matplotlib.figure.Figure at 0x150c9ecb38>"
      ]
     },
     "metadata": {},
     "output_type": "display_data"
    }
   ],
   "source": [
    "from matplotlib import pyplot as plt\n",
    "s = np.array([1,2,3])\n",
    "plt.plot(s,S['c_ss'])\n",
    "plt.title('Steady State Consumption on $s$', fontsize=15)\n",
    "plt.xlabel('Age')\n",
    "plt.ylabel('Consumption')\n",
    "plt.show()\n",
    "\n",
    "plt.plot(s[1:],S['b_ss'])\n",
    "plt.title('Steady State Saving on $s$', fontsize=15)\n",
    "plt.xlabel('Age')\n",
    "plt.ylabel('Saving')\n",
    "plt.show()"
   ]
  },
  {
   "cell_type": "markdown",
   "metadata": {},
   "source": [
    "### Exercise 2.3\n",
    "What happens to each of these steady-state values if all households become more patient? What is the intuition?"
   ]
  },
  {
   "cell_type": "code",
   "execution_count": 22,
   "metadata": {},
   "outputs": [
    {
     "data": {
      "image/png": "[encoded data removed]",
      "text/plain": [
       "<matplotlib.figure.Figure at 0x150ca05b38>"
      ]
     },
     "metadata": {},
     "output_type": "display_data"
    },
    {
     "data": {
      "image/png": "[encoded data removed]",
      "text/plain": [
       "<matplotlib.figure.Figure at 0x150c93ed30>"
      ]
     },
     "metadata": {},
     "output_type": "display_data"
    }
   ],
   "source": [
    "params1=(0.55, 3, np.array([1.0,1.0,0.2]), np.sum(np.array([1.0,1.0,0.2])), 1, 0.35, 0.6415, SS_tol)\n",
    "S_mod = get_SS(params1, bvec_guess)\n",
    "\n",
    "s = np.array([1,2,3])\n",
    "plt.plot(s,S['c_ss'])\n",
    "plt.plot(s,S_mod['c_ss'])\n",
    "plt.title('Steady State Consumption on $s$', fontsize=15)\n",
    "plt.xlabel('Age')\n",
    "plt.ylabel('Consumption')\n",
    "plt.show()\n",
    "\n",
    "plt.plot(s[1:],S['b_ss'])\n",
    "plt.plot(s[1:],S_mod['b_ss'])\n",
    "plt.title('Steady State Saving on $s$', fontsize=15)\n",
    "plt.xlabel('Age')\n",
    "plt.ylabel('Saving')\n",
    "plt.show()"
   ]
  },
  {
   "cell_type": "code",
   "execution_count": 16,
   "metadata": {},
   "outputs": [
    {
     "name": "stdout",
     "output_type": "stream",
     "text": [
      "The steady-state interest rates are :  2.433062339106576 1.8863765057415194\n",
      "The steady-state wage rates are :  0.2017246573912498 0.22415219593339097\n"
     ]
    }
   ],
   "source": [
    "print('The steady-state interest rates are : ', S['r_ss'],S_mod['r_ss'])\n",
    "print('The steady-state wage rates are : ', S['w_ss'],S_mod['w_ss'])"
   ]
  },
  {
   "cell_type": "code",
   "execution_count": 23,
   "metadata": {},
   "outputs": [
    {
     "data": {
      "text/plain": [
       "{'C_ss': 0.6329006729415257,\n",
       " 'EulErr_ss': array([-1.36276412e-09,  3.02372882e-09]),\n",
       " 'K_ss': 0.07772362575396088,\n",
       " 'RCerr_ss': 4.85722573273506e-17,\n",
       " 'Y_ss': 0.6827603788626917,\n",
       " 'b_ss': array([0.01931253, 0.0584111 ]),\n",
       " 'c_ss': array([0.18241213, 0.20961468, 0.24087387]),\n",
       " 'r_ss': 2.433062339106576,\n",
       " 'ss_time': 0.0007820000000000604,\n",
       " 'w_ss': 0.2017246573912498}"
      ]
     },
     "execution_count": 23,
     "metadata": {},
     "output_type": "execute_result"
    }
   ],
   "source": [
    "import numpy as np\n",
    "import scipy.optimize as opt\n",
    "\n",
    "n_vec = np.array([1.0,1.0,0.2])\n",
    "r_path= np.array([0.04,0.05,0.0511])\n",
    "w_path = np.array([1.2,1.18,1.17])\n",
    "beta = 0.9\n",
    "sigma = 2.2\n",
    "b_2tpl = 1.0\n",
    "\n",
    "S"
   ]
  },
  {
   "cell_type": "markdown",
   "metadata": {},
   "source": [
    "If the value of beta (time preference) goes up, the household will save more to consume tomorrow. This lead to the over-accumulation of capital, which leads to the decrease of interest rate, and the improvement of effectiveness of labor(which eventually leads to the increase of captal)."
   ]
  },
  {
   "cell_type": "markdown",
   "metadata": {},
   "source": [
    "### Exercise 2.3\n",
    "Use time path iteration (TPI) to solve for the non-steady state equilibrium transition path of the economy from $(b2_1,b3_1) = (0.8 \\bar{b2},1.1\\bar{b3})$ to the steady-state $(\\bar{b2},\\bar{b3})$."
   ]
  },
  {
   "cell_type": "code",
   "execution_count": 34,
   "metadata": {},
   "outputs": [],
   "source": [
    "# Set parameters\n",
    "import numpy as np\n",
    "\n",
    "beta = 0.442\n",
    "sigma = 3\n",
    "n_vec = np.array([1.0,1.0,0.2])\n",
    "A = 1.0\n",
    "delta =0.6415\n",
    "alpha = 0.35\n",
    "SS_tol = 10**(-8)\n",
    "\n",
    "\n",
    "params=(beta, sigma, n_vec, np.sum(n_vec), A, alpha, delta, SS_tol)\n",
    "\n",
    "T = 50\n",
    "path_toler = 1e-9\n",
    "xi = 0.2\n",
    "bvec_guess = np.array([0.3,0.4])\n",
    "\n",
    "# Solve for the steady-state\n",
    "\n",
    "S = get_SS(params, bvec_guess, SS_graphs=True)\n",
    "\n",
    "b2bar, b3bar = S['b_ss']\n",
    "\n",
    "# Set initial condition\n",
    "\n",
    "b21 =0.8 * b2bar\n",
    "b31 = 1.2 * b3bar\n",
    "\n",
    "# Initial guess for K\n",
    "K1 = b21 + b31\n",
    "Kbar = b2bar + b3bar\n",
    "Kpath = np.linspace(K1,Kbar,T)\n",
    "\n",
    "\n",
    "def get_wpath(Kpath,w_args,T):\n",
    "    \n",
    "    alpha, A, nvec = w_args\n",
    "    L = nvec[0]+nvec[1]+nvec[2]\n",
    "    wpath = np.zeros((1,T))\n",
    "    \n",
    "    for i in range(T):\n",
    "        wpath[0,i] = (1-alpha)*A*(Kpath[i]**alpha) * (L**(-alpha))\n",
    "    \n",
    "    return wpath\n",
    "\n",
    "\n",
    "def get_rpath(Kpath, r_args,T):\n",
    "    alpha, A, nvec,delta = r_args\n",
    "    L = nvec[0]+nvec[1]+nvec[2]\n",
    "    rpath = np.zeros((1,T))\n",
    "    \n",
    "    for i in range(T):\n",
    "        rpath[0,i] = alpha*A*(Kpath[i]**(alpha-1)) * (L**(1-alpha))-delta\n",
    "    \n",
    "    return rpath\n",
    "\n",
    "\n",
    "def Eul_err_b2t_b3tp1(bvec, *args):\n",
    "    b2t,b3tp1 = bvec\n",
    "    beta,sigma,r_t,r_tp1,n1,n2,n3,w_tm1,w_t,w_tp1 =  args\n",
    "    \n",
    "    eul_err1 = (w_tm1*n1 - b2t)**(-sigma) - beta*(1+r_t) * ((1+r_t)*b2t + w_t*n2 - b3tp1)**(-sigma)\n",
    "    eul_err2 = ((1+r_t)*b2t + w_t*n2 - b3tp1)**(-sigma) - beta*(1+r_tp1) * ((1+r_tp1)*b3tp1 + w_tp1*n3)**(-sigma)\n",
    "    eul_err = np.array([eul_err1,eul_err2])\n",
    "    return eul_err\n",
    "\n",
    "w_args = (alpha,A,n_vec)\n",
    "r_args = (alpha,A,n_vec,delta)\n",
    "rpath = get_rpath(Kpath,r_args,T)\n",
    "wpath = get_wpath(Kpath,w_args,T)\n",
    "\n",
    "#Note that we already know b21 & b31\n",
    "\n",
    "bmat = np.zeros((T+1,2))\n",
    "bmat[0,0] = b21 \n",
    "bmat[0,1] = b31\n",
    "\n",
    "# Calculate b32 \n",
    "def Eul_errs1(b3, *args):\n",
    "    \n",
    "    b2, A, alpha, beta, sigma, nvec,delta,r_t,r_tp1,w_t,w_tp1 = args\n",
    "           \n",
    "    n1=nvec[0]\n",
    "    n2=nvec[1]\n",
    "    n3=nvec[2]\n",
    "    \n",
    "    c2 = (1+r_t)*b2 + w_t*n2 - b3\n",
    "    c3 = (1+r_tp1)*b3 + w_tp1*n3\n",
    "    \n",
    "    err2 = (c2)**(-sigma) - beta * (1+r_tp1)*((c3)**(-sigma))\n",
    "    err_vec = err2\n",
    "    \n",
    "    return err_vec\n",
    "\n",
    "b3_init = 0.1\n",
    "args1 = (b21,A,alpha,beta,sigma,n_vec,delta,rpath[0,0],rpath[0,1],wpath[0,0],wpath[0,1])\n",
    "results = opt.root(Eul_errs1,b3_init,args=args1)\n",
    "b32=results.x\n",
    "\n",
    "# Save b32 to bmat\n",
    "bmat[1,1] = b32"
   ]
  },
  {
   "cell_type": "code",
   "execution_count": 37,
   "metadata": {},
   "outputs": [],
   "source": [
    "#Solve HH decisions\n",
    "\n",
    "EULER_MAX = np.zeros((T-1,2))\n",
    "RESOURCE_MAX = np.zeros((T-1,1))\n",
    "n1=n_vec[0]\n",
    "n2=n_vec[1]\n",
    "n3=n_vec[2]\n",
    "\n",
    "dist = 1\n",
    "ITER_max = 200\n",
    "ITER = 0\n",
    "while (dist > 1e-20) and (ITER <ITER_max):\n",
    "    for t in range(0,T-2):\n",
    "    \n",
    "        #args1 = (beta,sigma,rpath[0,t],rpath[0,t+1],n1,n2,n3,wpath[0,t-1],wpath[0,t],wpath[0,t+1]) \n",
    "        args1 = (beta,sigma,rpath[0,t+1],rpath[0,t+2],n1,n2,n3,wpath[0,t],wpath[0,t+1],wpath[0,t+2]) \n",
    "       # b2tm1, b3t = bmat[t-1,0],bmat[t,1]\n",
    "        b2tm1, b3t = bmat[t,0],bmat[t+1,1]\n",
    "    \n",
    "        results = opt.root(Eul_err_b2t_b3tp1,np.array([b2tm1,b3t]),args=args1)\n",
    "        b2t, b3tp1 =  results.x\n",
    "        bmat[t+1,0],bmat[t+2,1] = b2t, b3tp1\n",
    "        EULER_MAX[t,0] = results.fun[0]\n",
    "        EULER_MAX[t,1] = results.fun[1]\n",
    "        EULER_MAX[t,0] = results.fun[0]\n",
    "        EULER_MAX[t,1] = results.fun[1]\n",
    "\n",
    "        # Solve for b2 and b3\n",
    "    \n",
    "\n",
    "    Kpath_prime = bmat[:-2].sum(axis = 1)\n",
    "    dist = ((Kpath_prime - Kpath[:-1])**2).sum()\n",
    "    ITER +=1\n",
    "    #print(dist,ITER)\n",
    "    Kpath_new   = xi * Kpath_prime + (1-xi) * Kpath[:-1]\n",
    "    Kpath = Kpath_new\n",
    "    \n",
    "    \n",
    "    Kpath=np.append(Kpath, np.array([b2bar+b3bar]), axis=0)\n",
    "    #plt.plot(Kpath-(b2bar+b3bar))\n",
    "    rpath = get_rpath(Kpath,r_args,T)\n",
    "    wpath = get_wpath(Kpath,w_args,T)   "
   ]
  },
  {
   "cell_type": "code",
   "execution_count": 38,
   "metadata": {},
   "outputs": [],
   "source": [
    "# Step 5 : Restore the results and Plot!\n",
    "RESOURCE_MAX = np.zeros((T-1,1))\n",
    "\n",
    "for t in range(1,T-1):\n",
    "    \n",
    "    b2tm1 = bmat[t-1,0]\n",
    "    b3tm1 = bmat[t-1,1]\n",
    "    \n",
    "    b2t = bmat[t,0]\n",
    "    b3t = bmat[t,1]\n",
    "    \n",
    "    b2tp1 = bmat[t+1,0]\n",
    "    b3tp1 = bmat[t+1,1]\n",
    "    \n",
    "    Kt = b2t+b3t\n",
    "    Ktp1 = b2tp1 + b3tp1\n",
    "    c1t = n1*wpath[0,t] - b2t\n",
    "    c2t = (1+rpath[0,t])*b2tm1 + wpath[0,t]*n2 - b3t\n",
    "    c3t = (1+rpath[0,t])*b3tm1+ wpath[0,t]*n3\n",
    "    Ct = c1t+c2t+c3t\n",
    "    Yt = A*(Kt**alpha)*((n1+n2+n3)**(1-alpha))\n",
    "    RESOURCE_MAX[t,0] = Yt - Ct - Ktp1 + (1-delta)*Kt    "
   ]
  },
  {
   "cell_type": "code",
   "execution_count": 39,
   "metadata": {},
   "outputs": [
    {
     "name": "stdout",
     "output_type": "stream",
     "text": [
      "The maximum error of Resource constraint is :  [0.02515899]\n",
      "The maximum error of Euler Equation is :  2.4593333591838018e-08\n"
     ]
    }
   ],
   "source": [
    "Resource_max = max(np.abs(RESOURCE_MAX))\n",
    "Euler_max =  np.max(np.abs(EULER_MAX))\n",
    "print('The maximum error of Resource constraint is : ', Resource_max)\n",
    "print('The maximum error of Euler Equation is : ', Euler_max)"
   ]
  },
  {
   "cell_type": "markdown",
   "metadata": {},
   "source": [
    "### Exercise 3.2\n",
    "Plot the equilibrium time paths of the aggregate capital stock {K}, wage {w}, and interest rate {r }."
   ]
  },
  {
   "cell_type": "code",
   "execution_count": 33,
   "metadata": {},
   "outputs": [
    {
     "data": {
      "image/png": "[encoded data removed]",
      "text/plain": [
       "<matplotlib.figure.Figure at 0x150cf27358>"
      ]
     },
     "metadata": {},
     "output_type": "display_data"
    },
    {
     "data": {
      "image/png": "[encoded data removed]",
      "text/plain": [
       "<matplotlib.figure.Figure at 0x150db6f5c0>"
      ]
     },
     "metadata": {},
     "output_type": "display_data"
    },
    {
     "data": {
      "image/png": "[encoded data removed]",
      "text/plain": [
       "<matplotlib.figure.Figure at 0x150db1ad30>"
      ]
     },
     "metadata": {},
     "output_type": "display_data"
    }
   ],
   "source": [
    "plt.plot(Kpath,label = 'Transition path of $K_t$')\n",
    "plt.title('Time Path of the Capital Stocks', fontsize=15)\n",
    "plt.xlabel('Capital')\n",
    "plt.ylabel('Time')\n",
    "plt.legend()\n",
    "plt.show()\n",
    "\n",
    "plt.plot(wpath.T,label = 'Transition path of $w_t$')\n",
    "plt.title('Time Path of the Wage', fontsize=15)\n",
    "plt.xlabel('Wage')\n",
    "plt.ylabel('Time')\n",
    "plt.legend()\n",
    "plt.show()\n",
    "\n",
    "plt.plot(rpath.T,label = 'Transition path of $r_t$')\n",
    "plt.title('Time Path of the Interest Rate', fontsize=15)\n",
    "plt.xlabel('Interest Rate')\n",
    "plt.ylabel('Time')\n",
    "plt.legend()\n",
    "plt.show()"
   ]
  },
  {
   "cell_type": "markdown",
   "metadata": {},
   "source": [
    "### Exercise 3.3\n",
    "How many periods did it take for the economy to get within 0.00001 of the steady-state aggregate capital stock $\\bar K$ ? What is the period after which the aggregate capital stock never is again farther than 0.00001 away from the steady-state?"
   ]
  },
  {
   "cell_type": "code",
   "execution_count": 40,
   "metadata": {},
   "outputs": [
    {
     "name": "stdout",
     "output_type": "stream",
     "text": [
      "13\n"
     ]
    }
   ],
   "source": [
    "KSS = b2bar+b3bar\n",
    "for i in range(len(Kpath)):\n",
    "    if np.abs(KSS-Kpath[i]) < 1e-5:\n",
    "        break\n",
    "\n",
    "Period = i+1\n",
    "print(Period)"
   ]
  }
 ],
 "metadata": {
  "kernelspec": {
   "display_name": "Python 3",
   "language": "python",
   "name": "python3"
  },
  "language_info": {
   "codemirror_mode": {
    "name": "ipython",
    "version": 3
   },
   "file_extension": ".py",
   "mimetype": "text/x-python",
   "name": "python",
   "nbconvert_exporter": "python",
   "pygments_lexer": "ipython3",
   "version": "3.6.4"
  }
 },
 "nbformat": 4,
 "nbformat_minor": 2
}
