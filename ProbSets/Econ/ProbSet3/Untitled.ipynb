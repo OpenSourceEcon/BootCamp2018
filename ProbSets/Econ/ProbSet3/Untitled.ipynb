{
 "cells": [
  {
   "cell_type": "code",
   "execution_count": 24,
   "metadata": {},
   "outputs": [],
   "source": [
    "import numpy as np\n",
    "import scipy.optimize as opt\n",
    "\n",
    "n_vec = np.array([1.0, 1.0, 0.2])\n",
    "r_path = np.array([0.04, 0.05, 0.051])\n",
    "w_path = np.array([1.2, 1.18, 1.17])\n",
    "beta = 0.9\n",
    "sigma = 2.2\n",
    "b_2tpl = 1.0\n",
    "\n",
    "\n",
    "def Eul_err2(b3, *args):\n",
    "    npath, rpath,  wpath, beta, sigma, b_2tpl = args\n",
    "    c2 = (1 + rpath[0]) * b_2tpl + wpath[0] * npath[0] - b3\n",
    "    c3 = (1 + rpath[1]) * b3 + wpath[1] * npath[1]\n",
    "    MU2 = c2 ** (-sigma)\n",
    "    MU3 = c3 ** (-sigma)\n",
    "    eul_err = MU2 - beta * (1 + rpath[1]) * MU3\n",
    "    \n",
    "    return eul_err\n",
    "\n",
    "b3_init = 0.1\n",
    "b3_args = (n_vec[1:], r_path[1:], w_path[1: ],\n",
    "          beta, sigma, b_2tpl)\n",
    "results_b3 = opt.root(Eul_err2, b3_init, args = (b3_args))"
   ]
  },
  {
   "cell_type": "code",
   "execution_count": 25,
   "metadata": {},
   "outputs": [
    {
     "ename": "NameError",
     "evalue": "name 'init_vals' is not defined",
     "output_type": "error",
     "traceback": [
      "\u001b[0;31m---------------------------------------------------------------------------\u001b[0m",
      "\u001b[0;31mNameError\u001b[0m                                 Traceback (most recent call last)",
      "\u001b[0;32m<ipython-input-25-bf2a3c1f7bc5>\u001b[0m in \u001b[0;36m<module>\u001b[0;34m()\u001b[0m\n\u001b[1;32m     24\u001b[0m     \u001b[0;32mreturn\u001b[0m \u001b[0meul_errs\u001b[0m\u001b[0;34m\u001b[0m\u001b[0m\n\u001b[1;32m     25\u001b[0m \u001b[0;34m\u001b[0m\u001b[0m\n\u001b[0;32m---> 26\u001b[0;31m \u001b[0mresults_b2\u001b[0m \u001b[0;34m=\u001b[0m \u001b[0mopt\u001b[0m\u001b[0;34m.\u001b[0m\u001b[0mroot\u001b[0m\u001b[0;34m(\u001b[0m\u001b[0mEul_errs\u001b[0m\u001b[0;34m,\u001b[0m \u001b[0minit_vals\u001b[0m\u001b[0;34m,\u001b[0m \u001b[0margs\u001b[0m \u001b[0;34m=\u001b[0m \u001b[0;34m(\u001b[0m\u001b[0mb\u001b[0m\u001b[0;34m)\u001b[0m\u001b[0;34m)\u001b[0m\u001b[0;34m\u001b[0m\u001b[0m\n\u001b[0m",
      "\u001b[0;31mNameError\u001b[0m: name 'init_vals' is not defined"
     ]
    }
   ],
   "source": [
    "import numpy as np\n",
    "import scipy.optimize as opt\n",
    "\n",
    "n_vec = np.array([1.0, 1.0, 0.2])\n",
    "r_path = np.array([0.04, 0.05, 0.051])\n",
    "w_path = np.array([1.2, 1.18, 1.17])\n",
    "beta = 0.9\n",
    "sigma = 2.2\n",
    "b_1tpl = 1.0\n",
    "\n",
    "\n",
    "def get_w(bvec, w_args):\n",
    "    b2, b3 = bvec\n",
    "    alpha, A, nvec = w_args\n",
    "    \n",
    "    return w\n",
    "\n",
    "def ger_r(bvec, r_arg):\n",
    "    \n",
    "    return r\n",
    "\n",
    "def Eul_errs(bvec, *args):\n",
    "    \n",
    "    return eul_errs\n",
    "\n",
    "results_b2 = opt.root(Eul_errs, init_vals, args = (b))"
   ]
  },
  {
   "cell_type": "code",
   "execution_count": null,
   "metadata": {},
   "outputs": [],
   "source": []
  }
 ],
 "metadata": {
  "kernelspec": {
   "display_name": "Python 3",
   "language": "python",
   "name": "python3"
  },
  "language_info": {
   "codemirror_mode": {
    "name": "ipython",
    "version": 3
   },
   "file_extension": ".py",
   "mimetype": "text/x-python",
   "name": "python",
   "nbconvert_exporter": "python",
   "pygments_lexer": "ipython3",
   "version": "3.6.4"
  }
 },
 "nbformat": 4,
 "nbformat_minor": 2
}
